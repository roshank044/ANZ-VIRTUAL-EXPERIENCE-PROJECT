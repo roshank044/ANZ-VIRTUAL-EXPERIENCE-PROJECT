{
 "cells": [
  {
   "cell_type": "markdown",
   "id": "852953aa",
   "metadata": {},
   "source": [
    "#  ANZ VIRTUAL INTERNSHIP PROJECT  \n",
    "\n",
    "\n",
    "The task is based on a synthesised transaction dataset containing 3 months worth of transactions for 100 hypothetical customers. It contains purchases, recurring transactions, and salary transactions.\n",
    "\n",
    "## TASK 2 : Predictive Analytics\n",
    "### 1. Data :\n",
    "The data is provided by the Data ANZ itself when we enroll ourselves in their program.\n",
    "### 2. Features :\n",
    "status : denotes the status of the transaction posted or authorized for transaction.\n",
    "\n",
    "card_present_flag : Did the customer have a card during the transaction (1.1 = Yes or 0.0 = No).\n",
    "\n",
    "bpay_biller_code : unique code of the BPay Transaction done by the customer.\n",
    "\n",
    "account : account number of the customers who made transaction.\n",
    "\n",
    "currency : currency type in which the transaction has been done (AUD dollars).\n",
    "\n",
    "long_lat : Longitude and Latitude location of the customer.\n",
    "\n",
    "txn_description : the mode of transaction the customer has done.\n",
    "\n",
    "merchant_id : the merchant id where the customers have done their transaction.\n",
    "\n",
    "merChant_code : unique merchant code for each customer.\n",
    "\n",
    "first_name : first name of the customer.\n",
    "\n",
    "balance : balance the customer had during the transaction of period 3 months.\n",
    "\n",
    "date : date when the transaction took place.\n",
    "\n",
    "gender : gender of the customer(Male or Female).\n",
    "\n",
    "age : age of the customer.\n",
    "\n",
    "merchant_suburb : the district or city where the merchant is located.\n",
    "\n",
    "merchant_state : the state where the merchant is located.\n",
    "\n",
    "extraction : extraction of the transaction data.\n",
    "\n",
    "amount : the amount transacted by the customer.\n",
    "\n",
    "transaction_id : unique transaction id given by the merchant when the customer makes an transaction.\n",
    "\n",
    "country : country where the customer's are located (Australia).\n",
    "\n",
    "customer_id = id for the customer's to differentiate them as unique.\n",
    "\n",
    "merchant_long_lat : the latitude and longitude location of the merchant.\n",
    "\n",
    "movement : mode of transaction (credit or debit).\n",
    "\n",
    "### The dataset is designed to simulate realistic transaction behaviours that are observed in ANZ’s real transaction data, so many of the insights we can gather from the tasks below will be genuine"
   ]
  },
  {
   "cell_type": "code",
   "execution_count": 1,
   "id": "793c3dea",
   "metadata": {},
   "outputs": [],
   "source": [
    "import numpy as np\n",
    "import pandas as pd\n",
    "import seaborn as sns\n",
    "import matplotlib.pyplot as plt\n",
    "from sklearn.linear_model import LinearRegression\n",
    "from sklearn.tree import DecisionTreeRegressor\n",
    "from sklearn.cluster import KMeans\n",
    "from sklearn.preprocessing import PolynomialFeatures\n",
    "from sklearn.model_selection import train_test_split\n",
    "from sklearn.metrics import mean_squared_error, r2_score"
   ]
  },
  {
   "cell_type": "markdown",
   "id": "794af54c",
   "metadata": {},
   "source": [
    "### Importing dataset and performing feature selection"
   ]
  },
  {
   "cell_type": "code",
   "execution_count": 2,
   "id": "ad9c2d84",
   "metadata": {},
   "outputs": [
    {
     "data": {
      "text/html": [
       "<div>\n",
       "<style scoped>\n",
       "    .dataframe tbody tr th:only-of-type {\n",
       "        vertical-align: middle;\n",
       "    }\n",
       "\n",
       "    .dataframe tbody tr th {\n",
       "        vertical-align: top;\n",
       "    }\n",
       "\n",
       "    .dataframe thead th {\n",
       "        text-align: right;\n",
       "    }\n",
       "</style>\n",
       "<table border=\"1\" class=\"dataframe\">\n",
       "  <thead>\n",
       "    <tr style=\"text-align: right;\">\n",
       "      <th></th>\n",
       "      <th>status</th>\n",
       "      <th>card_present_flag</th>\n",
       "      <th>bpay_biller_code</th>\n",
       "      <th>account</th>\n",
       "      <th>currency</th>\n",
       "      <th>long_lat</th>\n",
       "      <th>txn_description</th>\n",
       "      <th>merchant_id</th>\n",
       "      <th>merchant_code</th>\n",
       "      <th>first_name</th>\n",
       "      <th>...</th>\n",
       "      <th>age</th>\n",
       "      <th>merchant_suburb</th>\n",
       "      <th>merchant_state</th>\n",
       "      <th>extraction</th>\n",
       "      <th>amount</th>\n",
       "      <th>transaction_id</th>\n",
       "      <th>country</th>\n",
       "      <th>customer_id</th>\n",
       "      <th>merchant_long_lat</th>\n",
       "      <th>movement</th>\n",
       "    </tr>\n",
       "  </thead>\n",
       "  <tbody>\n",
       "    <tr>\n",
       "      <th>0</th>\n",
       "      <td>authorized</td>\n",
       "      <td>1.0</td>\n",
       "      <td>NaN</td>\n",
       "      <td>ACC-1598451071</td>\n",
       "      <td>AUD</td>\n",
       "      <td>153.41 -27.95</td>\n",
       "      <td>POS</td>\n",
       "      <td>81c48296-73be-44a7-befa-d053f48ce7cd</td>\n",
       "      <td>NaN</td>\n",
       "      <td>Diana</td>\n",
       "      <td>...</td>\n",
       "      <td>26</td>\n",
       "      <td>Ashmore</td>\n",
       "      <td>QLD</td>\n",
       "      <td>2018-08-01T01:01:15.000+0000</td>\n",
       "      <td>16.25</td>\n",
       "      <td>a623070bfead4541a6b0fff8a09e706c</td>\n",
       "      <td>Australia</td>\n",
       "      <td>CUS-2487424745</td>\n",
       "      <td>153.38 -27.99</td>\n",
       "      <td>debit</td>\n",
       "    </tr>\n",
       "    <tr>\n",
       "      <th>1</th>\n",
       "      <td>authorized</td>\n",
       "      <td>0.0</td>\n",
       "      <td>NaN</td>\n",
       "      <td>ACC-1598451071</td>\n",
       "      <td>AUD</td>\n",
       "      <td>153.41 -27.95</td>\n",
       "      <td>SALES-POS</td>\n",
       "      <td>830a451c-316e-4a6a-bf25-e37caedca49e</td>\n",
       "      <td>NaN</td>\n",
       "      <td>Diana</td>\n",
       "      <td>...</td>\n",
       "      <td>26</td>\n",
       "      <td>Sydney</td>\n",
       "      <td>NSW</td>\n",
       "      <td>2018-08-01T01:13:45.000+0000</td>\n",
       "      <td>14.19</td>\n",
       "      <td>13270a2a902145da9db4c951e04b51b9</td>\n",
       "      <td>Australia</td>\n",
       "      <td>CUS-2487424745</td>\n",
       "      <td>151.21 -33.87</td>\n",
       "      <td>debit</td>\n",
       "    </tr>\n",
       "    <tr>\n",
       "      <th>2</th>\n",
       "      <td>authorized</td>\n",
       "      <td>1.0</td>\n",
       "      <td>NaN</td>\n",
       "      <td>ACC-1222300524</td>\n",
       "      <td>AUD</td>\n",
       "      <td>151.23 -33.94</td>\n",
       "      <td>POS</td>\n",
       "      <td>835c231d-8cdf-4e96-859d-e9d571760cf0</td>\n",
       "      <td>NaN</td>\n",
       "      <td>Michael</td>\n",
       "      <td>...</td>\n",
       "      <td>38</td>\n",
       "      <td>Sydney</td>\n",
       "      <td>NSW</td>\n",
       "      <td>2018-08-01T01:26:15.000+0000</td>\n",
       "      <td>6.42</td>\n",
       "      <td>feb79e7ecd7048a5a36ec889d1a94270</td>\n",
       "      <td>Australia</td>\n",
       "      <td>CUS-2142601169</td>\n",
       "      <td>151.21 -33.87</td>\n",
       "      <td>debit</td>\n",
       "    </tr>\n",
       "    <tr>\n",
       "      <th>3</th>\n",
       "      <td>authorized</td>\n",
       "      <td>1.0</td>\n",
       "      <td>NaN</td>\n",
       "      <td>ACC-1037050564</td>\n",
       "      <td>AUD</td>\n",
       "      <td>153.10 -27.66</td>\n",
       "      <td>SALES-POS</td>\n",
       "      <td>48514682-c78a-4a88-b0da-2d6302e64673</td>\n",
       "      <td>NaN</td>\n",
       "      <td>Rhonda</td>\n",
       "      <td>...</td>\n",
       "      <td>40</td>\n",
       "      <td>Buderim</td>\n",
       "      <td>QLD</td>\n",
       "      <td>2018-08-01T01:38:45.000+0000</td>\n",
       "      <td>40.90</td>\n",
       "      <td>2698170da3704fd981b15e64a006079e</td>\n",
       "      <td>Australia</td>\n",
       "      <td>CUS-1614226872</td>\n",
       "      <td>153.05 -26.68</td>\n",
       "      <td>debit</td>\n",
       "    </tr>\n",
       "    <tr>\n",
       "      <th>4</th>\n",
       "      <td>authorized</td>\n",
       "      <td>1.0</td>\n",
       "      <td>NaN</td>\n",
       "      <td>ACC-1598451071</td>\n",
       "      <td>AUD</td>\n",
       "      <td>153.41 -27.95</td>\n",
       "      <td>SALES-POS</td>\n",
       "      <td>b4e02c10-0852-4273-b8fd-7b3395e32eb0</td>\n",
       "      <td>NaN</td>\n",
       "      <td>Diana</td>\n",
       "      <td>...</td>\n",
       "      <td>26</td>\n",
       "      <td>Mermaid Beach</td>\n",
       "      <td>QLD</td>\n",
       "      <td>2018-08-01T01:51:15.000+0000</td>\n",
       "      <td>3.25</td>\n",
       "      <td>329adf79878c4cf0aeb4188b4691c266</td>\n",
       "      <td>Australia</td>\n",
       "      <td>CUS-2487424745</td>\n",
       "      <td>153.44 -28.06</td>\n",
       "      <td>debit</td>\n",
       "    </tr>\n",
       "    <tr>\n",
       "      <th>5</th>\n",
       "      <td>posted</td>\n",
       "      <td>NaN</td>\n",
       "      <td>NaN</td>\n",
       "      <td>ACC-1608363396</td>\n",
       "      <td>AUD</td>\n",
       "      <td>151.22 -33.87</td>\n",
       "      <td>PAYMENT</td>\n",
       "      <td>NaN</td>\n",
       "      <td>NaN</td>\n",
       "      <td>Robert</td>\n",
       "      <td>...</td>\n",
       "      <td>20</td>\n",
       "      <td>NaN</td>\n",
       "      <td>NaN</td>\n",
       "      <td>2018-08-01T02:00:00.000+0000</td>\n",
       "      <td>163.00</td>\n",
       "      <td>1005b48a6eda4ffd85e9b649dc9467d3</td>\n",
       "      <td>Australia</td>\n",
       "      <td>CUS-2688605418</td>\n",
       "      <td>NaN</td>\n",
       "      <td>debit</td>\n",
       "    </tr>\n",
       "    <tr>\n",
       "      <th>6</th>\n",
       "      <td>authorized</td>\n",
       "      <td>1.0</td>\n",
       "      <td>NaN</td>\n",
       "      <td>ACC-2776252858</td>\n",
       "      <td>AUD</td>\n",
       "      <td>144.95 -37.76</td>\n",
       "      <td>SALES-POS</td>\n",
       "      <td>3aa18033-a0a9-4190-a117-b7caaf4d07e3</td>\n",
       "      <td>NaN</td>\n",
       "      <td>Kristin</td>\n",
       "      <td>...</td>\n",
       "      <td>43</td>\n",
       "      <td>Kalkallo</td>\n",
       "      <td>VIC</td>\n",
       "      <td>2018-08-01T02:23:04.000+0000</td>\n",
       "      <td>61.06</td>\n",
       "      <td>b79ca208099c4c28aa5dae966096d842</td>\n",
       "      <td>Australia</td>\n",
       "      <td>CUS-4123612273</td>\n",
       "      <td>144.95 -37.53</td>\n",
       "      <td>debit</td>\n",
       "    </tr>\n",
       "    <tr>\n",
       "      <th>7</th>\n",
       "      <td>authorized</td>\n",
       "      <td>1.0</td>\n",
       "      <td>NaN</td>\n",
       "      <td>ACC-2776252858</td>\n",
       "      <td>AUD</td>\n",
       "      <td>144.95 -37.76</td>\n",
       "      <td>POS</td>\n",
       "      <td>ee58145d-26e8-4b01-9cd9-62378014f21d</td>\n",
       "      <td>NaN</td>\n",
       "      <td>Kristin</td>\n",
       "      <td>...</td>\n",
       "      <td>43</td>\n",
       "      <td>Melbourne</td>\n",
       "      <td>VIC</td>\n",
       "      <td>2018-08-01T04:11:25.000+0000</td>\n",
       "      <td>15.61</td>\n",
       "      <td>e1c4a50d6a0549cbb3710a62a2fa00d5</td>\n",
       "      <td>Australia</td>\n",
       "      <td>CUS-4123612273</td>\n",
       "      <td>144.96 -37.81</td>\n",
       "      <td>debit</td>\n",
       "    </tr>\n",
       "    <tr>\n",
       "      <th>8</th>\n",
       "      <td>authorized</td>\n",
       "      <td>1.0</td>\n",
       "      <td>NaN</td>\n",
       "      <td>ACC-182446574</td>\n",
       "      <td>AUD</td>\n",
       "      <td>116.06 -32.00</td>\n",
       "      <td>POS</td>\n",
       "      <td>cfbf535e-caa8-499f-9d41-bbdc2b836d85</td>\n",
       "      <td>NaN</td>\n",
       "      <td>Tonya</td>\n",
       "      <td>...</td>\n",
       "      <td>27</td>\n",
       "      <td>Yokine</td>\n",
       "      <td>WA</td>\n",
       "      <td>2018-08-01T04:40:00.000+0000</td>\n",
       "      <td>19.25</td>\n",
       "      <td>799e39eb2c1b411185424b0f2cd18bda</td>\n",
       "      <td>Australia</td>\n",
       "      <td>CUS-3026014945</td>\n",
       "      <td>115.85 -31.9</td>\n",
       "      <td>debit</td>\n",
       "    </tr>\n",
       "    <tr>\n",
       "      <th>9</th>\n",
       "      <td>posted</td>\n",
       "      <td>NaN</td>\n",
       "      <td>NaN</td>\n",
       "      <td>ACC-602667573</td>\n",
       "      <td>AUD</td>\n",
       "      <td>151.23 -33.96</td>\n",
       "      <td>INTER BANK</td>\n",
       "      <td>NaN</td>\n",
       "      <td>NaN</td>\n",
       "      <td>Michael</td>\n",
       "      <td>...</td>\n",
       "      <td>40</td>\n",
       "      <td>NaN</td>\n",
       "      <td>NaN</td>\n",
       "      <td>2018-08-01T06:00:00.000+0000</td>\n",
       "      <td>21.00</td>\n",
       "      <td>798a77869014441b840a7a8a23408332</td>\n",
       "      <td>Australia</td>\n",
       "      <td>CUS-2031327464</td>\n",
       "      <td>NaN</td>\n",
       "      <td>debit</td>\n",
       "    </tr>\n",
       "    <tr>\n",
       "      <th>10</th>\n",
       "      <td>posted</td>\n",
       "      <td>NaN</td>\n",
       "      <td>NaN</td>\n",
       "      <td>ACC-2171593283</td>\n",
       "      <td>AUD</td>\n",
       "      <td>146.94 -36.04</td>\n",
       "      <td>PAYMENT</td>\n",
       "      <td>NaN</td>\n",
       "      <td>NaN</td>\n",
       "      <td>Fernando</td>\n",
       "      <td>...</td>\n",
       "      <td>19</td>\n",
       "      <td>NaN</td>\n",
       "      <td>NaN</td>\n",
       "      <td>2018-08-01T06:00:00.000+0000</td>\n",
       "      <td>27.00</td>\n",
       "      <td>baff17b27b2643c48c84fca7129e9611</td>\n",
       "      <td>Australia</td>\n",
       "      <td>CUS-2317998716</td>\n",
       "      <td>NaN</td>\n",
       "      <td>debit</td>\n",
       "    </tr>\n",
       "    <tr>\n",
       "      <th>11</th>\n",
       "      <td>posted</td>\n",
       "      <td>NaN</td>\n",
       "      <td>NaN</td>\n",
       "      <td>ACC-2776252858</td>\n",
       "      <td>AUD</td>\n",
       "      <td>144.95 -37.76</td>\n",
       "      <td>PAYMENT</td>\n",
       "      <td>NaN</td>\n",
       "      <td>NaN</td>\n",
       "      <td>Kristin</td>\n",
       "      <td>...</td>\n",
       "      <td>43</td>\n",
       "      <td>NaN</td>\n",
       "      <td>NaN</td>\n",
       "      <td>2018-08-01T06:00:00.000+0000</td>\n",
       "      <td>29.00</td>\n",
       "      <td>78a1b6c3a5534d48828d8ed266ba9c2e</td>\n",
       "      <td>Australia</td>\n",
       "      <td>CUS-4123612273</td>\n",
       "      <td>NaN</td>\n",
       "      <td>debit</td>\n",
       "    </tr>\n",
       "    <tr>\n",
       "      <th>12</th>\n",
       "      <td>authorized</td>\n",
       "      <td>1.0</td>\n",
       "      <td>NaN</td>\n",
       "      <td>ACC-182446574</td>\n",
       "      <td>AUD</td>\n",
       "      <td>116.06 -32.00</td>\n",
       "      <td>SALES-POS</td>\n",
       "      <td>33952b07-859c-4c0a-8b1d-813a5f6b444c</td>\n",
       "      <td>NaN</td>\n",
       "      <td>Tonya</td>\n",
       "      <td>...</td>\n",
       "      <td>27</td>\n",
       "      <td>Cockburn Central</td>\n",
       "      <td>WA</td>\n",
       "      <td>2018-08-01T06:06:40.000+0000</td>\n",
       "      <td>6.08</td>\n",
       "      <td>9ba4928260b24fbb8fb00f1f8d86b868</td>\n",
       "      <td>Australia</td>\n",
       "      <td>CUS-3026014945</td>\n",
       "      <td>115.86 -32.13</td>\n",
       "      <td>debit</td>\n",
       "    </tr>\n",
       "    <tr>\n",
       "      <th>13</th>\n",
       "      <td>posted</td>\n",
       "      <td>NaN</td>\n",
       "      <td>NaN</td>\n",
       "      <td>ACC-588564840</td>\n",
       "      <td>AUD</td>\n",
       "      <td>151.27 -33.76</td>\n",
       "      <td>INTER BANK</td>\n",
       "      <td>NaN</td>\n",
       "      <td>NaN</td>\n",
       "      <td>Isaiah</td>\n",
       "      <td>...</td>\n",
       "      <td>23</td>\n",
       "      <td>NaN</td>\n",
       "      <td>NaN</td>\n",
       "      <td>2018-08-01T07:00:00.000+0000</td>\n",
       "      <td>25.00</td>\n",
       "      <td>eaafa602902b4f4194efb96a105dd7ab</td>\n",
       "      <td>Australia</td>\n",
       "      <td>CUS-1462656821</td>\n",
       "      <td>NaN</td>\n",
       "      <td>debit</td>\n",
       "    </tr>\n",
       "    <tr>\n",
       "      <th>14</th>\n",
       "      <td>posted</td>\n",
       "      <td>NaN</td>\n",
       "      <td>NaN</td>\n",
       "      <td>ACC-1496451953</td>\n",
       "      <td>AUD</td>\n",
       "      <td>145.16 -37.84</td>\n",
       "      <td>INTER BANK</td>\n",
       "      <td>NaN</td>\n",
       "      <td>NaN</td>\n",
       "      <td>Ricky</td>\n",
       "      <td>...</td>\n",
       "      <td>43</td>\n",
       "      <td>NaN</td>\n",
       "      <td>NaN</td>\n",
       "      <td>2018-08-01T07:00:00.000+0000</td>\n",
       "      <td>39.00</td>\n",
       "      <td>243dcea5fb1846ffb89671edf45f157d</td>\n",
       "      <td>Australia</td>\n",
       "      <td>CUS-3142625864</td>\n",
       "      <td>NaN</td>\n",
       "      <td>debit</td>\n",
       "    </tr>\n",
       "    <tr>\n",
       "      <th>15</th>\n",
       "      <td>authorized</td>\n",
       "      <td>1.0</td>\n",
       "      <td>NaN</td>\n",
       "      <td>ACC-1903037542</td>\n",
       "      <td>AUD</td>\n",
       "      <td>153.05 -27.61</td>\n",
       "      <td>POS</td>\n",
       "      <td>d920de7f-959c-4d9a-aee5-930689a2f8cd</td>\n",
       "      <td>NaN</td>\n",
       "      <td>Jeffrey</td>\n",
       "      <td>...</td>\n",
       "      <td>30</td>\n",
       "      <td>Mount Ommaney</td>\n",
       "      <td>QLD</td>\n",
       "      <td>2018-08-01T07:20:48.000+0000</td>\n",
       "      <td>10.79</td>\n",
       "      <td>28347ba260d84f8d81ab70d9e901ea8e</td>\n",
       "      <td>Australia</td>\n",
       "      <td>CUS-860700529</td>\n",
       "      <td>152.94 -27.55</td>\n",
       "      <td>debit</td>\n",
       "    </tr>\n",
       "    <tr>\n",
       "      <th>16</th>\n",
       "      <td>posted</td>\n",
       "      <td>NaN</td>\n",
       "      <td>NaN</td>\n",
       "      <td>ACC-2014856841</td>\n",
       "      <td>AUD</td>\n",
       "      <td>144.99 -37.90</td>\n",
       "      <td>INTER BANK</td>\n",
       "      <td>NaN</td>\n",
       "      <td>NaN</td>\n",
       "      <td>Patrick</td>\n",
       "      <td>...</td>\n",
       "      <td>46</td>\n",
       "      <td>NaN</td>\n",
       "      <td>NaN</td>\n",
       "      <td>2018-08-01T08:00:00.000+0000</td>\n",
       "      <td>22.00</td>\n",
       "      <td>ae8124d2e33547bdb605d9a51581457f</td>\n",
       "      <td>Australia</td>\n",
       "      <td>CUS-2370108457</td>\n",
       "      <td>NaN</td>\n",
       "      <td>debit</td>\n",
       "    </tr>\n",
       "    <tr>\n",
       "      <th>17</th>\n",
       "      <td>posted</td>\n",
       "      <td>NaN</td>\n",
       "      <td>NaN</td>\n",
       "      <td>ACC-4163822186</td>\n",
       "      <td>AUD</td>\n",
       "      <td>149.03 -34.97</td>\n",
       "      <td>PAYMENT</td>\n",
       "      <td>NaN</td>\n",
       "      <td>NaN</td>\n",
       "      <td>Karen</td>\n",
       "      <td>...</td>\n",
       "      <td>26</td>\n",
       "      <td>NaN</td>\n",
       "      <td>NaN</td>\n",
       "      <td>2018-08-01T08:00:00.000+0000</td>\n",
       "      <td>55.00</td>\n",
       "      <td>0b0bc166b6da49b1ac64d3bb9c4ef550</td>\n",
       "      <td>Australia</td>\n",
       "      <td>CUS-2630892467</td>\n",
       "      <td>NaN</td>\n",
       "      <td>debit</td>\n",
       "    </tr>\n",
       "    <tr>\n",
       "      <th>18</th>\n",
       "      <td>posted</td>\n",
       "      <td>NaN</td>\n",
       "      <td>NaN</td>\n",
       "      <td>ACC-3954677887</td>\n",
       "      <td>AUD</td>\n",
       "      <td>115.72 -32.28</td>\n",
       "      <td>PAYMENT</td>\n",
       "      <td>NaN</td>\n",
       "      <td>NaN</td>\n",
       "      <td>Ruth</td>\n",
       "      <td>...</td>\n",
       "      <td>47</td>\n",
       "      <td>NaN</td>\n",
       "      <td>NaN</td>\n",
       "      <td>2018-08-01T08:00:00.000+0000</td>\n",
       "      <td>58.00</td>\n",
       "      <td>c24ca89f7aba4ab4b8d3e9ac0c5f4fab</td>\n",
       "      <td>Australia</td>\n",
       "      <td>CUS-3716701010</td>\n",
       "      <td>NaN</td>\n",
       "      <td>debit</td>\n",
       "    </tr>\n",
       "    <tr>\n",
       "      <th>19</th>\n",
       "      <td>authorized</td>\n",
       "      <td>1.0</td>\n",
       "      <td>NaN</td>\n",
       "      <td>ACC-4258502723</td>\n",
       "      <td>AUD</td>\n",
       "      <td>145.45 -37.74</td>\n",
       "      <td>POS</td>\n",
       "      <td>b5565fff-0333-4c74-a61a-56a074d0ec0f</td>\n",
       "      <td>NaN</td>\n",
       "      <td>Kimberly</td>\n",
       "      <td>...</td>\n",
       "      <td>24</td>\n",
       "      <td>Brunswick</td>\n",
       "      <td>VIC</td>\n",
       "      <td>2018-08-01T08:00:11.000+0000</td>\n",
       "      <td>7.37</td>\n",
       "      <td>2f77c3cbe847468bbf99f7f0cead69f9</td>\n",
       "      <td>Australia</td>\n",
       "      <td>CUS-3378712515</td>\n",
       "      <td>144.96 -37.78</td>\n",
       "      <td>debit</td>\n",
       "    </tr>\n",
       "    <tr>\n",
       "      <th>20</th>\n",
       "      <td>authorized</td>\n",
       "      <td>1.0</td>\n",
       "      <td>NaN</td>\n",
       "      <td>ACC-1598451071</td>\n",
       "      <td>AUD</td>\n",
       "      <td>153.41 -27.95</td>\n",
       "      <td>POS</td>\n",
       "      <td>f2ef6270-cf91-409f-a6a2-fbd6735ea500</td>\n",
       "      <td>NaN</td>\n",
       "      <td>Diana</td>\n",
       "      <td>...</td>\n",
       "      <td>26</td>\n",
       "      <td>Byron Bay</td>\n",
       "      <td>NSW</td>\n",
       "      <td>2018-08-01T08:09:42.000+0000</td>\n",
       "      <td>14.10</td>\n",
       "      <td>1c12c9ad77894ef8b507fb091e41e928</td>\n",
       "      <td>Australia</td>\n",
       "      <td>CUS-2487424745</td>\n",
       "      <td>153.6 -28.63</td>\n",
       "      <td>debit</td>\n",
       "    </tr>\n",
       "    <tr>\n",
       "      <th>21</th>\n",
       "      <td>authorized</td>\n",
       "      <td>0.0</td>\n",
       "      <td>NaN</td>\n",
       "      <td>ACC-2890243754</td>\n",
       "      <td>AUD</td>\n",
       "      <td>153.32 -27.93</td>\n",
       "      <td>POS</td>\n",
       "      <td>7e8bf667-e724-4359-a406-3538a3e27b4e</td>\n",
       "      <td>NaN</td>\n",
       "      <td>Joseph</td>\n",
       "      <td>...</td>\n",
       "      <td>37</td>\n",
       "      <td>Lismore</td>\n",
       "      <td>NSW</td>\n",
       "      <td>2018-08-01T08:19:14.000+0000</td>\n",
       "      <td>24.77</td>\n",
       "      <td>1f12467d33ce4609890fb64978ebbcbb</td>\n",
       "      <td>Australia</td>\n",
       "      <td>CUS-2695611575</td>\n",
       "      <td>153.28 -28.81</td>\n",
       "      <td>debit</td>\n",
       "    </tr>\n",
       "    <tr>\n",
       "      <th>22</th>\n",
       "      <td>authorized</td>\n",
       "      <td>1.0</td>\n",
       "      <td>NaN</td>\n",
       "      <td>ACC-3481401842</td>\n",
       "      <td>AUD</td>\n",
       "      <td>115.74 -31.72</td>\n",
       "      <td>SALES-POS</td>\n",
       "      <td>38997041-c666-41a4-857b-9aaea10c008d</td>\n",
       "      <td>NaN</td>\n",
       "      <td>Tiffany</td>\n",
       "      <td>...</td>\n",
       "      <td>25</td>\n",
       "      <td>Fremantle</td>\n",
       "      <td>WA</td>\n",
       "      <td>2018-08-01T08:28:45.000+0000</td>\n",
       "      <td>13.67</td>\n",
       "      <td>daae532bc1114fbd86fca277f349a397</td>\n",
       "      <td>Australia</td>\n",
       "      <td>CUS-1669695324</td>\n",
       "      <td>115.76 -32.06</td>\n",
       "      <td>debit</td>\n",
       "    </tr>\n",
       "    <tr>\n",
       "      <th>23</th>\n",
       "      <td>authorized</td>\n",
       "      <td>0.0</td>\n",
       "      <td>NaN</td>\n",
       "      <td>ACC-2615038700</td>\n",
       "      <td>AUD</td>\n",
       "      <td>145.35 -38.03</td>\n",
       "      <td>POS</td>\n",
       "      <td>354f40cb-55bc-4a81-a00d-c7faede29f8b</td>\n",
       "      <td>NaN</td>\n",
       "      <td>Emily</td>\n",
       "      <td>...</td>\n",
       "      <td>43</td>\n",
       "      <td>Mordialloc</td>\n",
       "      <td>VIC</td>\n",
       "      <td>2018-08-01T08:47:48.000+0000</td>\n",
       "      <td>12.08</td>\n",
       "      <td>49417bad354f4137971a954c26657e2d</td>\n",
       "      <td>Australia</td>\n",
       "      <td>CUS-3255104878</td>\n",
       "      <td>145.09 -38.01</td>\n",
       "      <td>debit</td>\n",
       "    </tr>\n",
       "    <tr>\n",
       "      <th>24</th>\n",
       "      <td>authorized</td>\n",
       "      <td>1.0</td>\n",
       "      <td>NaN</td>\n",
       "      <td>ACC-966140392</td>\n",
       "      <td>AUD</td>\n",
       "      <td>147.08 -37.97</td>\n",
       "      <td>POS</td>\n",
       "      <td>7ec296e9-6feb-46b0-b755-115ce31678c1</td>\n",
       "      <td>NaN</td>\n",
       "      <td>Joseph</td>\n",
       "      <td>...</td>\n",
       "      <td>21</td>\n",
       "      <td>Chatswood</td>\n",
       "      <td>NSW</td>\n",
       "      <td>2018-08-01T08:57:20.000+0000</td>\n",
       "      <td>72.12</td>\n",
       "      <td>80005b72314045ff9b7d48b6f2b63615</td>\n",
       "      <td>Australia</td>\n",
       "      <td>CUS-537508723</td>\n",
       "      <td>151.18 -33.8</td>\n",
       "      <td>debit</td>\n",
       "    </tr>\n",
       "    <tr>\n",
       "      <th>25</th>\n",
       "      <td>posted</td>\n",
       "      <td>NaN</td>\n",
       "      <td>NaN</td>\n",
       "      <td>ACC-354106658</td>\n",
       "      <td>AUD</td>\n",
       "      <td>151.04 -33.80</td>\n",
       "      <td>INTER BANK</td>\n",
       "      <td>NaN</td>\n",
       "      <td>NaN</td>\n",
       "      <td>Christine</td>\n",
       "      <td>...</td>\n",
       "      <td>39</td>\n",
       "      <td>NaN</td>\n",
       "      <td>NaN</td>\n",
       "      <td>2018-08-01T09:00:00.000+0000</td>\n",
       "      <td>25.00</td>\n",
       "      <td>f8cbe52460864f5fa77728f4a9e08997</td>\n",
       "      <td>Australia</td>\n",
       "      <td>CUS-2376382098</td>\n",
       "      <td>NaN</td>\n",
       "      <td>debit</td>\n",
       "    </tr>\n",
       "    <tr>\n",
       "      <th>26</th>\n",
       "      <td>posted</td>\n",
       "      <td>NaN</td>\n",
       "      <td>NaN</td>\n",
       "      <td>ACC-1443681913</td>\n",
       "      <td>AUD</td>\n",
       "      <td>150.92 -33.77</td>\n",
       "      <td>PAYMENT</td>\n",
       "      <td>NaN</td>\n",
       "      <td>NaN</td>\n",
       "      <td>Ryan</td>\n",
       "      <td>...</td>\n",
       "      <td>31</td>\n",
       "      <td>NaN</td>\n",
       "      <td>NaN</td>\n",
       "      <td>2018-08-01T09:00:00.000+0000</td>\n",
       "      <td>36.00</td>\n",
       "      <td>2addbcee343d4406bfd5f17fb8d40dee</td>\n",
       "      <td>Australia</td>\n",
       "      <td>CUS-3129499595</td>\n",
       "      <td>NaN</td>\n",
       "      <td>debit</td>\n",
       "    </tr>\n",
       "    <tr>\n",
       "      <th>27</th>\n",
       "      <td>authorized</td>\n",
       "      <td>1.0</td>\n",
       "      <td>NaN</td>\n",
       "      <td>ACC-1710017148</td>\n",
       "      <td>AUD</td>\n",
       "      <td>150.82 -34.01</td>\n",
       "      <td>SALES-POS</td>\n",
       "      <td>8a0fab50-4efb-41e2-a569-29346eb6c9de</td>\n",
       "      <td>NaN</td>\n",
       "      <td>Michelle</td>\n",
       "      <td>...</td>\n",
       "      <td>19</td>\n",
       "      <td>Granville</td>\n",
       "      <td>NSW</td>\n",
       "      <td>2018-08-01T09:02:54.000+0000</td>\n",
       "      <td>17.96</td>\n",
       "      <td>455044b17a8648a2945d7c39e8274351</td>\n",
       "      <td>Australia</td>\n",
       "      <td>CUS-883482547</td>\n",
       "      <td>151 -33.83</td>\n",
       "      <td>debit</td>\n",
       "    </tr>\n",
       "    <tr>\n",
       "      <th>28</th>\n",
       "      <td>authorized</td>\n",
       "      <td>1.0</td>\n",
       "      <td>NaN</td>\n",
       "      <td>ACC-2673069055</td>\n",
       "      <td>AUD</td>\n",
       "      <td>152.99 -27.49</td>\n",
       "      <td>SALES-POS</td>\n",
       "      <td>73b8eb5f-d6e6-43fb-896a-84faa162d544</td>\n",
       "      <td>NaN</td>\n",
       "      <td>Richard</td>\n",
       "      <td>...</td>\n",
       "      <td>24</td>\n",
       "      <td>Pacific Paradise</td>\n",
       "      <td>QLD</td>\n",
       "      <td>2018-08-01T09:06:57.000+0000</td>\n",
       "      <td>14.49</td>\n",
       "      <td>221c4f7dd53240a18ceab43e1b879a62</td>\n",
       "      <td>Australia</td>\n",
       "      <td>CUS-51506836</td>\n",
       "      <td>153.08 -26.61</td>\n",
       "      <td>debit</td>\n",
       "    </tr>\n",
       "    <tr>\n",
       "      <th>29</th>\n",
       "      <td>authorized</td>\n",
       "      <td>0.0</td>\n",
       "      <td>NaN</td>\n",
       "      <td>ACC-1710017148</td>\n",
       "      <td>AUD</td>\n",
       "      <td>150.82 -34.01</td>\n",
       "      <td>SALES-POS</td>\n",
       "      <td>4af25042-a1a4-4688-90b5-240d790e5332</td>\n",
       "      <td>NaN</td>\n",
       "      <td>Michelle</td>\n",
       "      <td>...</td>\n",
       "      <td>19</td>\n",
       "      <td>Alexandria</td>\n",
       "      <td>NSW</td>\n",
       "      <td>2018-08-01T09:11:00.000+0000</td>\n",
       "      <td>11.57</td>\n",
       "      <td>82acf03790844776b4587fd6e6f526c5</td>\n",
       "      <td>Australia</td>\n",
       "      <td>CUS-883482547</td>\n",
       "      <td>151.19 -33.92</td>\n",
       "      <td>debit</td>\n",
       "    </tr>\n",
       "  </tbody>\n",
       "</table>\n",
       "<p>30 rows × 23 columns</p>\n",
       "</div>"
      ],
      "text/plain": [
       "        status  card_present_flag bpay_biller_code         account currency  \\\n",
       "0   authorized                1.0              NaN  ACC-1598451071      AUD   \n",
       "1   authorized                0.0              NaN  ACC-1598451071      AUD   \n",
       "2   authorized                1.0              NaN  ACC-1222300524      AUD   \n",
       "3   authorized                1.0              NaN  ACC-1037050564      AUD   \n",
       "4   authorized                1.0              NaN  ACC-1598451071      AUD   \n",
       "5       posted                NaN              NaN  ACC-1608363396      AUD   \n",
       "6   authorized                1.0              NaN  ACC-2776252858      AUD   \n",
       "7   authorized                1.0              NaN  ACC-2776252858      AUD   \n",
       "8   authorized                1.0              NaN   ACC-182446574      AUD   \n",
       "9       posted                NaN              NaN   ACC-602667573      AUD   \n",
       "10      posted                NaN              NaN  ACC-2171593283      AUD   \n",
       "11      posted                NaN              NaN  ACC-2776252858      AUD   \n",
       "12  authorized                1.0              NaN   ACC-182446574      AUD   \n",
       "13      posted                NaN              NaN   ACC-588564840      AUD   \n",
       "14      posted                NaN              NaN  ACC-1496451953      AUD   \n",
       "15  authorized                1.0              NaN  ACC-1903037542      AUD   \n",
       "16      posted                NaN              NaN  ACC-2014856841      AUD   \n",
       "17      posted                NaN              NaN  ACC-4163822186      AUD   \n",
       "18      posted                NaN              NaN  ACC-3954677887      AUD   \n",
       "19  authorized                1.0              NaN  ACC-4258502723      AUD   \n",
       "20  authorized                1.0              NaN  ACC-1598451071      AUD   \n",
       "21  authorized                0.0              NaN  ACC-2890243754      AUD   \n",
       "22  authorized                1.0              NaN  ACC-3481401842      AUD   \n",
       "23  authorized                0.0              NaN  ACC-2615038700      AUD   \n",
       "24  authorized                1.0              NaN   ACC-966140392      AUD   \n",
       "25      posted                NaN              NaN   ACC-354106658      AUD   \n",
       "26      posted                NaN              NaN  ACC-1443681913      AUD   \n",
       "27  authorized                1.0              NaN  ACC-1710017148      AUD   \n",
       "28  authorized                1.0              NaN  ACC-2673069055      AUD   \n",
       "29  authorized                0.0              NaN  ACC-1710017148      AUD   \n",
       "\n",
       "         long_lat txn_description                           merchant_id  \\\n",
       "0   153.41 -27.95             POS  81c48296-73be-44a7-befa-d053f48ce7cd   \n",
       "1   153.41 -27.95       SALES-POS  830a451c-316e-4a6a-bf25-e37caedca49e   \n",
       "2   151.23 -33.94             POS  835c231d-8cdf-4e96-859d-e9d571760cf0   \n",
       "3   153.10 -27.66       SALES-POS  48514682-c78a-4a88-b0da-2d6302e64673   \n",
       "4   153.41 -27.95       SALES-POS  b4e02c10-0852-4273-b8fd-7b3395e32eb0   \n",
       "5   151.22 -33.87         PAYMENT                                   NaN   \n",
       "6   144.95 -37.76       SALES-POS  3aa18033-a0a9-4190-a117-b7caaf4d07e3   \n",
       "7   144.95 -37.76             POS  ee58145d-26e8-4b01-9cd9-62378014f21d   \n",
       "8   116.06 -32.00             POS  cfbf535e-caa8-499f-9d41-bbdc2b836d85   \n",
       "9   151.23 -33.96      INTER BANK                                   NaN   \n",
       "10  146.94 -36.04         PAYMENT                                   NaN   \n",
       "11  144.95 -37.76         PAYMENT                                   NaN   \n",
       "12  116.06 -32.00       SALES-POS  33952b07-859c-4c0a-8b1d-813a5f6b444c   \n",
       "13  151.27 -33.76      INTER BANK                                   NaN   \n",
       "14  145.16 -37.84      INTER BANK                                   NaN   \n",
       "15  153.05 -27.61             POS  d920de7f-959c-4d9a-aee5-930689a2f8cd   \n",
       "16  144.99 -37.90      INTER BANK                                   NaN   \n",
       "17  149.03 -34.97         PAYMENT                                   NaN   \n",
       "18  115.72 -32.28         PAYMENT                                   NaN   \n",
       "19  145.45 -37.74             POS  b5565fff-0333-4c74-a61a-56a074d0ec0f   \n",
       "20  153.41 -27.95             POS  f2ef6270-cf91-409f-a6a2-fbd6735ea500   \n",
       "21  153.32 -27.93             POS  7e8bf667-e724-4359-a406-3538a3e27b4e   \n",
       "22  115.74 -31.72       SALES-POS  38997041-c666-41a4-857b-9aaea10c008d   \n",
       "23  145.35 -38.03             POS  354f40cb-55bc-4a81-a00d-c7faede29f8b   \n",
       "24  147.08 -37.97             POS  7ec296e9-6feb-46b0-b755-115ce31678c1   \n",
       "25  151.04 -33.80      INTER BANK                                   NaN   \n",
       "26  150.92 -33.77         PAYMENT                                   NaN   \n",
       "27  150.82 -34.01       SALES-POS  8a0fab50-4efb-41e2-a569-29346eb6c9de   \n",
       "28  152.99 -27.49       SALES-POS  73b8eb5f-d6e6-43fb-896a-84faa162d544   \n",
       "29  150.82 -34.01       SALES-POS  4af25042-a1a4-4688-90b5-240d790e5332   \n",
       "\n",
       "    merchant_code first_name  ...  age   merchant_suburb merchant_state  \\\n",
       "0             NaN      Diana  ...   26           Ashmore            QLD   \n",
       "1             NaN      Diana  ...   26            Sydney            NSW   \n",
       "2             NaN    Michael  ...   38            Sydney            NSW   \n",
       "3             NaN     Rhonda  ...   40           Buderim            QLD   \n",
       "4             NaN      Diana  ...   26     Mermaid Beach            QLD   \n",
       "5             NaN     Robert  ...   20               NaN            NaN   \n",
       "6             NaN    Kristin  ...   43          Kalkallo            VIC   \n",
       "7             NaN    Kristin  ...   43         Melbourne            VIC   \n",
       "8             NaN      Tonya  ...   27            Yokine             WA   \n",
       "9             NaN    Michael  ...   40               NaN            NaN   \n",
       "10            NaN   Fernando  ...   19               NaN            NaN   \n",
       "11            NaN    Kristin  ...   43               NaN            NaN   \n",
       "12            NaN      Tonya  ...   27  Cockburn Central             WA   \n",
       "13            NaN     Isaiah  ...   23               NaN            NaN   \n",
       "14            NaN      Ricky  ...   43               NaN            NaN   \n",
       "15            NaN    Jeffrey  ...   30     Mount Ommaney            QLD   \n",
       "16            NaN    Patrick  ...   46               NaN            NaN   \n",
       "17            NaN      Karen  ...   26               NaN            NaN   \n",
       "18            NaN       Ruth  ...   47               NaN            NaN   \n",
       "19            NaN   Kimberly  ...   24         Brunswick            VIC   \n",
       "20            NaN      Diana  ...   26         Byron Bay            NSW   \n",
       "21            NaN     Joseph  ...   37           Lismore            NSW   \n",
       "22            NaN    Tiffany  ...   25         Fremantle             WA   \n",
       "23            NaN      Emily  ...   43        Mordialloc            VIC   \n",
       "24            NaN     Joseph  ...   21         Chatswood            NSW   \n",
       "25            NaN  Christine  ...   39               NaN            NaN   \n",
       "26            NaN       Ryan  ...   31               NaN            NaN   \n",
       "27            NaN   Michelle  ...   19         Granville            NSW   \n",
       "28            NaN    Richard  ...   24  Pacific Paradise            QLD   \n",
       "29            NaN   Michelle  ...   19        Alexandria            NSW   \n",
       "\n",
       "                      extraction  amount                    transaction_id  \\\n",
       "0   2018-08-01T01:01:15.000+0000   16.25  a623070bfead4541a6b0fff8a09e706c   \n",
       "1   2018-08-01T01:13:45.000+0000   14.19  13270a2a902145da9db4c951e04b51b9   \n",
       "2   2018-08-01T01:26:15.000+0000    6.42  feb79e7ecd7048a5a36ec889d1a94270   \n",
       "3   2018-08-01T01:38:45.000+0000   40.90  2698170da3704fd981b15e64a006079e   \n",
       "4   2018-08-01T01:51:15.000+0000    3.25  329adf79878c4cf0aeb4188b4691c266   \n",
       "5   2018-08-01T02:00:00.000+0000  163.00  1005b48a6eda4ffd85e9b649dc9467d3   \n",
       "6   2018-08-01T02:23:04.000+0000   61.06  b79ca208099c4c28aa5dae966096d842   \n",
       "7   2018-08-01T04:11:25.000+0000   15.61  e1c4a50d6a0549cbb3710a62a2fa00d5   \n",
       "8   2018-08-01T04:40:00.000+0000   19.25  799e39eb2c1b411185424b0f2cd18bda   \n",
       "9   2018-08-01T06:00:00.000+0000   21.00  798a77869014441b840a7a8a23408332   \n",
       "10  2018-08-01T06:00:00.000+0000   27.00  baff17b27b2643c48c84fca7129e9611   \n",
       "11  2018-08-01T06:00:00.000+0000   29.00  78a1b6c3a5534d48828d8ed266ba9c2e   \n",
       "12  2018-08-01T06:06:40.000+0000    6.08  9ba4928260b24fbb8fb00f1f8d86b868   \n",
       "13  2018-08-01T07:00:00.000+0000   25.00  eaafa602902b4f4194efb96a105dd7ab   \n",
       "14  2018-08-01T07:00:00.000+0000   39.00  243dcea5fb1846ffb89671edf45f157d   \n",
       "15  2018-08-01T07:20:48.000+0000   10.79  28347ba260d84f8d81ab70d9e901ea8e   \n",
       "16  2018-08-01T08:00:00.000+0000   22.00  ae8124d2e33547bdb605d9a51581457f   \n",
       "17  2018-08-01T08:00:00.000+0000   55.00  0b0bc166b6da49b1ac64d3bb9c4ef550   \n",
       "18  2018-08-01T08:00:00.000+0000   58.00  c24ca89f7aba4ab4b8d3e9ac0c5f4fab   \n",
       "19  2018-08-01T08:00:11.000+0000    7.37  2f77c3cbe847468bbf99f7f0cead69f9   \n",
       "20  2018-08-01T08:09:42.000+0000   14.10  1c12c9ad77894ef8b507fb091e41e928   \n",
       "21  2018-08-01T08:19:14.000+0000   24.77  1f12467d33ce4609890fb64978ebbcbb   \n",
       "22  2018-08-01T08:28:45.000+0000   13.67  daae532bc1114fbd86fca277f349a397   \n",
       "23  2018-08-01T08:47:48.000+0000   12.08  49417bad354f4137971a954c26657e2d   \n",
       "24  2018-08-01T08:57:20.000+0000   72.12  80005b72314045ff9b7d48b6f2b63615   \n",
       "25  2018-08-01T09:00:00.000+0000   25.00  f8cbe52460864f5fa77728f4a9e08997   \n",
       "26  2018-08-01T09:00:00.000+0000   36.00  2addbcee343d4406bfd5f17fb8d40dee   \n",
       "27  2018-08-01T09:02:54.000+0000   17.96  455044b17a8648a2945d7c39e8274351   \n",
       "28  2018-08-01T09:06:57.000+0000   14.49  221c4f7dd53240a18ceab43e1b879a62   \n",
       "29  2018-08-01T09:11:00.000+0000   11.57  82acf03790844776b4587fd6e6f526c5   \n",
       "\n",
       "      country     customer_id merchant_long_lat movement  \n",
       "0   Australia  CUS-2487424745     153.38 -27.99    debit  \n",
       "1   Australia  CUS-2487424745     151.21 -33.87    debit  \n",
       "2   Australia  CUS-2142601169     151.21 -33.87    debit  \n",
       "3   Australia  CUS-1614226872     153.05 -26.68    debit  \n",
       "4   Australia  CUS-2487424745     153.44 -28.06    debit  \n",
       "5   Australia  CUS-2688605418               NaN    debit  \n",
       "6   Australia  CUS-4123612273     144.95 -37.53    debit  \n",
       "7   Australia  CUS-4123612273     144.96 -37.81    debit  \n",
       "8   Australia  CUS-3026014945      115.85 -31.9    debit  \n",
       "9   Australia  CUS-2031327464               NaN    debit  \n",
       "10  Australia  CUS-2317998716               NaN    debit  \n",
       "11  Australia  CUS-4123612273               NaN    debit  \n",
       "12  Australia  CUS-3026014945     115.86 -32.13    debit  \n",
       "13  Australia  CUS-1462656821               NaN    debit  \n",
       "14  Australia  CUS-3142625864               NaN    debit  \n",
       "15  Australia   CUS-860700529     152.94 -27.55    debit  \n",
       "16  Australia  CUS-2370108457               NaN    debit  \n",
       "17  Australia  CUS-2630892467               NaN    debit  \n",
       "18  Australia  CUS-3716701010               NaN    debit  \n",
       "19  Australia  CUS-3378712515     144.96 -37.78    debit  \n",
       "20  Australia  CUS-2487424745      153.6 -28.63    debit  \n",
       "21  Australia  CUS-2695611575     153.28 -28.81    debit  \n",
       "22  Australia  CUS-1669695324     115.76 -32.06    debit  \n",
       "23  Australia  CUS-3255104878     145.09 -38.01    debit  \n",
       "24  Australia   CUS-537508723      151.18 -33.8    debit  \n",
       "25  Australia  CUS-2376382098               NaN    debit  \n",
       "26  Australia  CUS-3129499595               NaN    debit  \n",
       "27  Australia   CUS-883482547        151 -33.83    debit  \n",
       "28  Australia    CUS-51506836     153.08 -26.61    debit  \n",
       "29  Australia   CUS-883482547     151.19 -33.92    debit  \n",
       "\n",
       "[30 rows x 23 columns]"
      ]
     },
     "execution_count": 2,
     "metadata": {},
     "output_type": "execute_result"
    }
   ],
   "source": [
    "data = pd.read_excel('E:\\Forage Internship\\ANZ\\ANZ synthesised transaction dataset.xlsx')\n",
    "data.head(30)"
   ]
  },
  {
   "cell_type": "code",
   "execution_count": 3,
   "id": "5445d072",
   "metadata": {},
   "outputs": [
    {
     "data": {
      "text/plain": [
       "Index(['status', 'card_present_flag', 'bpay_biller_code', 'account',\n",
       "       'currency', 'long_lat', 'txn_description', 'merchant_id',\n",
       "       'merchant_code', 'first_name', 'balance', 'date', 'gender', 'age',\n",
       "       'merchant_suburb', 'merchant_state', 'extraction', 'amount',\n",
       "       'transaction_id', 'country', 'customer_id', 'merchant_long_lat',\n",
       "       'movement'],\n",
       "      dtype='object')"
      ]
     },
     "execution_count": 3,
     "metadata": {},
     "output_type": "execute_result"
    }
   ],
   "source": [
    "data.columns"
   ]
  },
  {
   "cell_type": "code",
   "execution_count": 4,
   "id": "3e0ab019",
   "metadata": {},
   "outputs": [],
   "source": [
    "# selecting important featuers\n",
    "data=data[[\"customer_id\",\"age\",\"txn_description\",\"balance\",\"amount\"]]"
   ]
  },
  {
   "cell_type": "code",
   "execution_count": 5,
   "id": "85b6d79d",
   "metadata": {},
   "outputs": [
    {
     "data": {
      "text/html": [
       "<div>\n",
       "<style scoped>\n",
       "    .dataframe tbody tr th:only-of-type {\n",
       "        vertical-align: middle;\n",
       "    }\n",
       "\n",
       "    .dataframe tbody tr th {\n",
       "        vertical-align: top;\n",
       "    }\n",
       "\n",
       "    .dataframe thead th {\n",
       "        text-align: right;\n",
       "    }\n",
       "</style>\n",
       "<table border=\"1\" class=\"dataframe\">\n",
       "  <thead>\n",
       "    <tr style=\"text-align: right;\">\n",
       "      <th></th>\n",
       "      <th>customer_id</th>\n",
       "      <th>age</th>\n",
       "      <th>txn_description</th>\n",
       "      <th>balance</th>\n",
       "      <th>amount</th>\n",
       "    </tr>\n",
       "  </thead>\n",
       "  <tbody>\n",
       "    <tr>\n",
       "      <th>0</th>\n",
       "      <td>CUS-2487424745</td>\n",
       "      <td>26</td>\n",
       "      <td>POS</td>\n",
       "      <td>35.39</td>\n",
       "      <td>16.25</td>\n",
       "    </tr>\n",
       "    <tr>\n",
       "      <th>1</th>\n",
       "      <td>CUS-2487424745</td>\n",
       "      <td>26</td>\n",
       "      <td>SALES-POS</td>\n",
       "      <td>21.20</td>\n",
       "      <td>14.19</td>\n",
       "    </tr>\n",
       "    <tr>\n",
       "      <th>2</th>\n",
       "      <td>CUS-2142601169</td>\n",
       "      <td>38</td>\n",
       "      <td>POS</td>\n",
       "      <td>5.71</td>\n",
       "      <td>6.42</td>\n",
       "    </tr>\n",
       "    <tr>\n",
       "      <th>3</th>\n",
       "      <td>CUS-1614226872</td>\n",
       "      <td>40</td>\n",
       "      <td>SALES-POS</td>\n",
       "      <td>2117.22</td>\n",
       "      <td>40.90</td>\n",
       "    </tr>\n",
       "    <tr>\n",
       "      <th>4</th>\n",
       "      <td>CUS-2487424745</td>\n",
       "      <td>26</td>\n",
       "      <td>SALES-POS</td>\n",
       "      <td>17.95</td>\n",
       "      <td>3.25</td>\n",
       "    </tr>\n",
       "  </tbody>\n",
       "</table>\n",
       "</div>"
      ],
      "text/plain": [
       "      customer_id  age txn_description  balance  amount\n",
       "0  CUS-2487424745   26             POS    35.39   16.25\n",
       "1  CUS-2487424745   26       SALES-POS    21.20   14.19\n",
       "2  CUS-2142601169   38             POS     5.71    6.42\n",
       "3  CUS-1614226872   40       SALES-POS  2117.22   40.90\n",
       "4  CUS-2487424745   26       SALES-POS    17.95    3.25"
      ]
     },
     "execution_count": 5,
     "metadata": {},
     "output_type": "execute_result"
    }
   ],
   "source": [
    "data.head()"
   ]
  },
  {
   "cell_type": "code",
   "execution_count": 6,
   "id": "f930409d",
   "metadata": {},
   "outputs": [
    {
     "name": "stdout",
     "output_type": "stream",
     "text": [
      "['POS' 'SALES-POS' 'PAYMENT' 'INTER BANK' 'PAY/SALARY' 'PHONE BANK']\n"
     ]
    }
   ],
   "source": [
    "print(data['txn_description'].unique())"
   ]
  },
  {
   "cell_type": "code",
   "execution_count": 7,
   "id": "336bf60b",
   "metadata": {},
   "outputs": [
    {
     "data": {
      "text/html": [
       "<div>\n",
       "<style scoped>\n",
       "    .dataframe tbody tr th:only-of-type {\n",
       "        vertical-align: middle;\n",
       "    }\n",
       "\n",
       "    .dataframe tbody tr th {\n",
       "        vertical-align: top;\n",
       "    }\n",
       "\n",
       "    .dataframe thead th {\n",
       "        text-align: right;\n",
       "    }\n",
       "</style>\n",
       "<table border=\"1\" class=\"dataframe\">\n",
       "  <thead>\n",
       "    <tr style=\"text-align: right;\">\n",
       "      <th></th>\n",
       "      <th>customer_id</th>\n",
       "      <th>age</th>\n",
       "      <th>balance</th>\n",
       "      <th>amount</th>\n",
       "    </tr>\n",
       "  </thead>\n",
       "  <tbody>\n",
       "    <tr>\n",
       "      <th>0</th>\n",
       "      <td>CUS-1005756958</td>\n",
       "      <td>53</td>\n",
       "      <td>2275.852055</td>\n",
       "      <td>222.862603</td>\n",
       "    </tr>\n",
       "    <tr>\n",
       "      <th>1</th>\n",
       "      <td>CUS-1117979751</td>\n",
       "      <td>21</td>\n",
       "      <td>9829.929000</td>\n",
       "      <td>339.843700</td>\n",
       "    </tr>\n",
       "    <tr>\n",
       "      <th>2</th>\n",
       "      <td>CUS-1140341822</td>\n",
       "      <td>28</td>\n",
       "      <td>5699.212250</td>\n",
       "      <td>212.632500</td>\n",
       "    </tr>\n",
       "    <tr>\n",
       "      <th>3</th>\n",
       "      <td>CUS-1147642491</td>\n",
       "      <td>34</td>\n",
       "      <td>9032.841186</td>\n",
       "      <td>245.600169</td>\n",
       "    </tr>\n",
       "    <tr>\n",
       "      <th>4</th>\n",
       "      <td>CUS-1196156254</td>\n",
       "      <td>34</td>\n",
       "      <td>22272.433755</td>\n",
       "      <td>147.145796</td>\n",
       "    </tr>\n",
       "  </tbody>\n",
       "</table>\n",
       "</div>"
      ],
      "text/plain": [
       "      customer_id  age       balance      amount\n",
       "0  CUS-1005756958   53   2275.852055  222.862603\n",
       "1  CUS-1117979751   21   9829.929000  339.843700\n",
       "2  CUS-1140341822   28   5699.212250  212.632500\n",
       "3  CUS-1147642491   34   9032.841186  245.600169\n",
       "4  CUS-1196156254   34  22272.433755  147.145796"
      ]
     },
     "execution_count": 7,
     "metadata": {},
     "output_type": "execute_result"
    }
   ],
   "source": [
    "plot_data= data.groupby([\"customer_id\"]).mean().reset_index()\n",
    "plot_data.head()"
   ]
  },
  {
   "cell_type": "markdown",
   "id": "19e84a8c",
   "metadata": {},
   "source": [
    "## Finding out the mean salary of each customer"
   ]
  },
  {
   "cell_type": "code",
   "execution_count": 8,
   "id": "c0f90ab1",
   "metadata": {},
   "outputs": [],
   "source": [
    "salary=data[data[\"txn_description\"]==\"PAY/SALARY\"].groupby(\"customer_id\").mean().reset_index()\n",
    "salary=salary[[\"customer_id\",\"amount\"]]\n",
    "salary=salary.rename(columns = {'amount':'salary'})"
   ]
  },
  {
   "cell_type": "code",
   "execution_count": 9,
   "id": "a3df044e",
   "metadata": {},
   "outputs": [
    {
     "data": {
      "text/html": [
       "<div>\n",
       "<style scoped>\n",
       "    .dataframe tbody tr th:only-of-type {\n",
       "        vertical-align: middle;\n",
       "    }\n",
       "\n",
       "    .dataframe tbody tr th {\n",
       "        vertical-align: top;\n",
       "    }\n",
       "\n",
       "    .dataframe thead th {\n",
       "        text-align: right;\n",
       "    }\n",
       "</style>\n",
       "<table border=\"1\" class=\"dataframe\">\n",
       "  <thead>\n",
       "    <tr style=\"text-align: right;\">\n",
       "      <th></th>\n",
       "      <th>customer_id</th>\n",
       "      <th>salary</th>\n",
       "    </tr>\n",
       "  </thead>\n",
       "  <tbody>\n",
       "    <tr>\n",
       "      <th>0</th>\n",
       "      <td>CUS-1005756958</td>\n",
       "      <td>970.47</td>\n",
       "    </tr>\n",
       "    <tr>\n",
       "      <th>1</th>\n",
       "      <td>CUS-1117979751</td>\n",
       "      <td>3578.65</td>\n",
       "    </tr>\n",
       "    <tr>\n",
       "      <th>2</th>\n",
       "      <td>CUS-1140341822</td>\n",
       "      <td>1916.51</td>\n",
       "    </tr>\n",
       "    <tr>\n",
       "      <th>3</th>\n",
       "      <td>CUS-1147642491</td>\n",
       "      <td>1711.39</td>\n",
       "    </tr>\n",
       "    <tr>\n",
       "      <th>4</th>\n",
       "      <td>CUS-1196156254</td>\n",
       "      <td>3903.73</td>\n",
       "    </tr>\n",
       "  </tbody>\n",
       "</table>\n",
       "</div>"
      ],
      "text/plain": [
       "      customer_id   salary\n",
       "0  CUS-1005756958   970.47\n",
       "1  CUS-1117979751  3578.65\n",
       "2  CUS-1140341822  1916.51\n",
       "3  CUS-1147642491  1711.39\n",
       "4  CUS-1196156254  3903.73"
      ]
     },
     "execution_count": 9,
     "metadata": {},
     "output_type": "execute_result"
    }
   ],
   "source": [
    "salary.head()"
   ]
  },
  {
   "cell_type": "markdown",
   "id": "1bf18f20",
   "metadata": {},
   "source": [
    "### Create some plots to analyze relation between existing data"
   ]
  },
  {
   "cell_type": "code",
   "execution_count": 10,
   "id": "b0f5f812",
   "metadata": {},
   "outputs": [
    {
     "data": {
      "text/html": [
       "<div>\n",
       "<style scoped>\n",
       "    .dataframe tbody tr th:only-of-type {\n",
       "        vertical-align: middle;\n",
       "    }\n",
       "\n",
       "    .dataframe tbody tr th {\n",
       "        vertical-align: top;\n",
       "    }\n",
       "\n",
       "    .dataframe thead th {\n",
       "        text-align: right;\n",
       "    }\n",
       "</style>\n",
       "<table border=\"1\" class=\"dataframe\">\n",
       "  <thead>\n",
       "    <tr style=\"text-align: right;\">\n",
       "      <th></th>\n",
       "      <th>customer_id</th>\n",
       "      <th>age</th>\n",
       "      <th>balance</th>\n",
       "      <th>amount</th>\n",
       "      <th>salary</th>\n",
       "    </tr>\n",
       "  </thead>\n",
       "  <tbody>\n",
       "    <tr>\n",
       "      <th>0</th>\n",
       "      <td>CUS-1005756958</td>\n",
       "      <td>53</td>\n",
       "      <td>2275.852055</td>\n",
       "      <td>222.862603</td>\n",
       "      <td>970.47</td>\n",
       "    </tr>\n",
       "    <tr>\n",
       "      <th>1</th>\n",
       "      <td>CUS-1117979751</td>\n",
       "      <td>21</td>\n",
       "      <td>9829.929000</td>\n",
       "      <td>339.843700</td>\n",
       "      <td>3578.65</td>\n",
       "    </tr>\n",
       "    <tr>\n",
       "      <th>2</th>\n",
       "      <td>CUS-1140341822</td>\n",
       "      <td>28</td>\n",
       "      <td>5699.212250</td>\n",
       "      <td>212.632500</td>\n",
       "      <td>1916.51</td>\n",
       "    </tr>\n",
       "    <tr>\n",
       "      <th>3</th>\n",
       "      <td>CUS-1147642491</td>\n",
       "      <td>34</td>\n",
       "      <td>9032.841186</td>\n",
       "      <td>245.600169</td>\n",
       "      <td>1711.39</td>\n",
       "    </tr>\n",
       "    <tr>\n",
       "      <th>4</th>\n",
       "      <td>CUS-1196156254</td>\n",
       "      <td>34</td>\n",
       "      <td>22272.433755</td>\n",
       "      <td>147.145796</td>\n",
       "      <td>3903.73</td>\n",
       "    </tr>\n",
       "  </tbody>\n",
       "</table>\n",
       "</div>"
      ],
      "text/plain": [
       "      customer_id  age       balance      amount   salary\n",
       "0  CUS-1005756958   53   2275.852055  222.862603   970.47\n",
       "1  CUS-1117979751   21   9829.929000  339.843700  3578.65\n",
       "2  CUS-1140341822   28   5699.212250  212.632500  1916.51\n",
       "3  CUS-1147642491   34   9032.841186  245.600169  1711.39\n",
       "4  CUS-1196156254   34  22272.433755  147.145796  3903.73"
      ]
     },
     "execution_count": 10,
     "metadata": {},
     "output_type": "execute_result"
    }
   ],
   "source": [
    "plot_data=pd.merge(plot_data, salary, on=\"customer_id\")\n",
    "plot_data.head()"
   ]
  },
  {
   "cell_type": "markdown",
   "id": "12c72470",
   "metadata": {},
   "source": [
    "### Salary v/s Age"
   ]
  },
  {
   "cell_type": "code",
   "execution_count": 11,
   "id": "3f459a3f",
   "metadata": {},
   "outputs": [
    {
     "name": "stderr",
     "output_type": "stream",
     "text": [
      "C:\\Users\\Kushal Gupta\\anaconda3\\lib\\site-packages\\seaborn\\_decorators.py:36: FutureWarning: Pass the following variables as keyword args: x, y. From version 0.12, the only valid positional argument will be `data`, and passing other arguments without an explicit keyword will result in an error or misinterpretation.\n",
      "  warnings.warn(\n"
     ]
    },
    {
     "data": {
      "text/plain": [
       "<AxesSubplot:xlabel='age', ylabel='salary'>"
      ]
     },
     "execution_count": 11,
     "metadata": {},
     "output_type": "execute_result"
    },
    {
     "data": {
      "image/png": "[encoded data removed]",
      "text/plain": [
       "<Figure size 864x576 with 1 Axes>"
      ]
     },
     "metadata": {
      "needs_background": "light"
     },
     "output_type": "display_data"
    }
   ],
   "source": [
    "plt.figure(figsize=(12, 8))\n",
    "sns.regplot(\"age\", \"salary\", data=plot_data)"
   ]
  },
  {
   "cell_type": "markdown",
   "id": "a23f5ae0",
   "metadata": {},
   "source": [
    "### Salary v/s Account Balance"
   ]
  },
  {
   "cell_type": "code",
   "execution_count": 12,
   "id": "589eedc3",
   "metadata": {},
   "outputs": [
    {
     "name": "stderr",
     "output_type": "stream",
     "text": [
      "C:\\Users\\Kushal Gupta\\anaconda3\\lib\\site-packages\\seaborn\\_decorators.py:36: FutureWarning: Pass the following variables as keyword args: x, y. From version 0.12, the only valid positional argument will be `data`, and passing other arguments without an explicit keyword will result in an error or misinterpretation.\n",
      "  warnings.warn(\n"
     ]
    },
    {
     "data": {
      "text/plain": [
       "<AxesSubplot:xlabel='balance', ylabel='salary'>"
      ]
     },
     "execution_count": 12,
     "metadata": {},
     "output_type": "execute_result"
    },
    {
     "data": {
      "image/png": "[encoded data removed]",
      "text/plain": [
       "<Figure size 864x576 with 1 Axes>"
      ]
     },
     "metadata": {
      "needs_background": "light"
     },
     "output_type": "display_data"
    }
   ],
   "source": [
    "plt.figure(figsize=(12, 8))\n",
    "sns.regplot(\"balance\", \"salary\", fit_reg=True, data=plot_data)"
   ]
  },
  {
   "cell_type": "markdown",
   "id": "6a829259",
   "metadata": {},
   "source": [
    "### Salary v/s Transaction Amount"
   ]
  },
  {
   "cell_type": "code",
   "execution_count": 13,
   "id": "938208b0",
   "metadata": {},
   "outputs": [
    {
     "name": "stderr",
     "output_type": "stream",
     "text": [
      "C:\\Users\\Kushal Gupta\\anaconda3\\lib\\site-packages\\seaborn\\_decorators.py:36: FutureWarning: Pass the following variables as keyword args: x, y. From version 0.12, the only valid positional argument will be `data`, and passing other arguments without an explicit keyword will result in an error or misinterpretation.\n",
      "  warnings.warn(\n"
     ]
    },
    {
     "data": {
      "text/plain": [
       "<AxesSubplot:xlabel='amount', ylabel='salary'>"
      ]
     },
     "execution_count": 13,
     "metadata": {},
     "output_type": "execute_result"
    },
    {
     "data": {
      "image/png": "[encoded data removed]",
      "text/plain": [
       "<Figure size 864x576 with 1 Axes>"
      ]
     },
     "metadata": {
      "needs_background": "light"
     },
     "output_type": "display_data"
    }
   ],
   "source": [
    "plt.figure(figsize=(12, 8))\n",
    "sns.regplot(\"amount\", \"salary\", fit_reg=True, data=plot_data)"
   ]
  },
  {
   "cell_type": "markdown",
   "id": "e7636870",
   "metadata": {},
   "source": [
    "# Data Preparation\n",
    "## Feature Generation\n",
    "## Mean POS (Point of Sale) for each customer"
   ]
  },
  {
   "cell_type": "code",
   "execution_count": 14,
   "id": "e33c832e",
   "metadata": {},
   "outputs": [],
   "source": [
    "# POS indicates spending behavior of customer\n",
    "pos=data[data[\"txn_description\"]==(\"POS\"or\"SALES-POS\")].groupby(\"customer_id\").mean().reset_index()\n",
    "pos=pos[[\"customer_id\",\"amount\"]]\n",
    "pos=pos.rename(columns = {'amount':'pos'})"
   ]
  },
  {
   "cell_type": "code",
   "execution_count": 15,
   "id": "40e6a8a6",
   "metadata": {},
   "outputs": [
    {
     "data": {
      "text/html": [
       "<div>\n",
       "<style scoped>\n",
       "    .dataframe tbody tr th:only-of-type {\n",
       "        vertical-align: middle;\n",
       "    }\n",
       "\n",
       "    .dataframe tbody tr th {\n",
       "        vertical-align: top;\n",
       "    }\n",
       "\n",
       "    .dataframe thead th {\n",
       "        text-align: right;\n",
       "    }\n",
       "</style>\n",
       "<table border=\"1\" class=\"dataframe\">\n",
       "  <thead>\n",
       "    <tr style=\"text-align: right;\">\n",
       "      <th></th>\n",
       "      <th>customer_id</th>\n",
       "      <th>pos</th>\n",
       "    </tr>\n",
       "  </thead>\n",
       "  <tbody>\n",
       "    <tr>\n",
       "      <th>0</th>\n",
       "      <td>CUS-1005756958</td>\n",
       "      <td>28.769615</td>\n",
       "    </tr>\n",
       "    <tr>\n",
       "      <th>1</th>\n",
       "      <td>CUS-1117979751</td>\n",
       "      <td>23.321923</td>\n",
       "    </tr>\n",
       "    <tr>\n",
       "      <th>2</th>\n",
       "      <td>CUS-1140341822</td>\n",
       "      <td>34.781282</td>\n",
       "    </tr>\n",
       "    <tr>\n",
       "      <th>3</th>\n",
       "      <td>CUS-1147642491</td>\n",
       "      <td>54.271316</td>\n",
       "    </tr>\n",
       "    <tr>\n",
       "      <th>4</th>\n",
       "      <td>CUS-1196156254</td>\n",
       "      <td>31.157432</td>\n",
       "    </tr>\n",
       "  </tbody>\n",
       "</table>\n",
       "</div>"
      ],
      "text/plain": [
       "      customer_id        pos\n",
       "0  CUS-1005756958  28.769615\n",
       "1  CUS-1117979751  23.321923\n",
       "2  CUS-1140341822  34.781282\n",
       "3  CUS-1147642491  54.271316\n",
       "4  CUS-1196156254  31.157432"
      ]
     },
     "execution_count": 15,
     "metadata": {},
     "output_type": "execute_result"
    }
   ],
   "source": [
    "pos.head()"
   ]
  },
  {
   "cell_type": "code",
   "execution_count": 16,
   "id": "6c199486",
   "metadata": {},
   "outputs": [
    {
     "data": {
      "text/plain": [
       "100"
      ]
     },
     "execution_count": 16,
     "metadata": {},
     "output_type": "execute_result"
    }
   ],
   "source": [
    "len(pos)"
   ]
  },
  {
   "cell_type": "markdown",
   "id": "1189d8da",
   "metadata": {},
   "source": [
    "### Mean payment made by the customer"
   ]
  },
  {
   "cell_type": "code",
   "execution_count": 17,
   "id": "98ab5d68",
   "metadata": {},
   "outputs": [],
   "source": [
    "payment=data[data[\"txn_description\"]==\"PAYMENT\"].groupby(\"customer_id\").mean().reset_index()\n",
    "payment=payment[[\"customer_id\",\"amount\"]]\n",
    "payment=payment.rename(columns = {'amount':'payment'})"
   ]
  },
  {
   "cell_type": "code",
   "execution_count": 18,
   "id": "b09a4266",
   "metadata": {},
   "outputs": [
    {
     "data": {
      "text/html": [
       "<div>\n",
       "<style scoped>\n",
       "    .dataframe tbody tr th:only-of-type {\n",
       "        vertical-align: middle;\n",
       "    }\n",
       "\n",
       "    .dataframe tbody tr th {\n",
       "        vertical-align: top;\n",
       "    }\n",
       "\n",
       "    .dataframe thead th {\n",
       "        text-align: right;\n",
       "    }\n",
       "</style>\n",
       "<table border=\"1\" class=\"dataframe\">\n",
       "  <thead>\n",
       "    <tr style=\"text-align: right;\">\n",
       "      <th></th>\n",
       "      <th>customer_id</th>\n",
       "      <th>payment</th>\n",
       "    </tr>\n",
       "  </thead>\n",
       "  <tbody>\n",
       "    <tr>\n",
       "      <th>0</th>\n",
       "      <td>CUS-1005756958</td>\n",
       "      <td>144.000000</td>\n",
       "    </tr>\n",
       "    <tr>\n",
       "      <th>1</th>\n",
       "      <td>CUS-1117979751</td>\n",
       "      <td>98.925000</td>\n",
       "    </tr>\n",
       "    <tr>\n",
       "      <th>2</th>\n",
       "      <td>CUS-1140341822</td>\n",
       "      <td>142.000000</td>\n",
       "    </tr>\n",
       "    <tr>\n",
       "      <th>3</th>\n",
       "      <td>CUS-1147642491</td>\n",
       "      <td>96.185185</td>\n",
       "    </tr>\n",
       "    <tr>\n",
       "      <th>4</th>\n",
       "      <td>CUS-1196156254</td>\n",
       "      <td>43.100000</td>\n",
       "    </tr>\n",
       "  </tbody>\n",
       "</table>\n",
       "</div>"
      ],
      "text/plain": [
       "      customer_id     payment\n",
       "0  CUS-1005756958  144.000000\n",
       "1  CUS-1117979751   98.925000\n",
       "2  CUS-1140341822  142.000000\n",
       "3  CUS-1147642491   96.185185\n",
       "4  CUS-1196156254   43.100000"
      ]
     },
     "execution_count": 18,
     "metadata": {},
     "output_type": "execute_result"
    }
   ],
   "source": [
    "payment.head()"
   ]
  },
  {
   "cell_type": "code",
   "execution_count": 19,
   "id": "2615f16f",
   "metadata": {},
   "outputs": [
    {
     "data": {
      "text/plain": [
       "100"
      ]
     },
     "execution_count": 19,
     "metadata": {},
     "output_type": "execute_result"
    }
   ],
   "source": [
    "len(payment)"
   ]
  },
  {
   "cell_type": "markdown",
   "id": "f5cbd8c5",
   "metadata": {},
   "source": [
    "### Mean Inter-bank transfer by each customer"
   ]
  },
  {
   "cell_type": "code",
   "execution_count": 20,
   "id": "1e13fe97",
   "metadata": {},
   "outputs": [],
   "source": [
    "interbank=data[data[\"txn_description\"]=='INTER BANK'].groupby(\"customer_id\").mean().reset_index()\n",
    "interbank=interbank[[\"customer_id\",\"amount\"]]\n",
    "interbank=interbank.rename(columns = {'amount':'interbank'})"
   ]
  },
  {
   "cell_type": "code",
   "execution_count": 21,
   "id": "e179b8cb",
   "metadata": {},
   "outputs": [
    {
     "data": {
      "text/html": [
       "<div>\n",
       "<style scoped>\n",
       "    .dataframe tbody tr th:only-of-type {\n",
       "        vertical-align: middle;\n",
       "    }\n",
       "\n",
       "    .dataframe tbody tr th {\n",
       "        vertical-align: top;\n",
       "    }\n",
       "\n",
       "    .dataframe thead th {\n",
       "        text-align: right;\n",
       "    }\n",
       "</style>\n",
       "<table border=\"1\" class=\"dataframe\">\n",
       "  <thead>\n",
       "    <tr style=\"text-align: right;\">\n",
       "      <th></th>\n",
       "      <th>customer_id</th>\n",
       "      <th>interbank</th>\n",
       "    </tr>\n",
       "  </thead>\n",
       "  <tbody>\n",
       "    <tr>\n",
       "      <th>0</th>\n",
       "      <td>CUS-1117979751</td>\n",
       "      <td>1001.0000</td>\n",
       "    </tr>\n",
       "    <tr>\n",
       "      <th>1</th>\n",
       "      <td>CUS-1140341822</td>\n",
       "      <td>90.0000</td>\n",
       "    </tr>\n",
       "    <tr>\n",
       "      <th>2</th>\n",
       "      <td>CUS-1147642491</td>\n",
       "      <td>125.0000</td>\n",
       "    </tr>\n",
       "    <tr>\n",
       "      <th>3</th>\n",
       "      <td>CUS-1196156254</td>\n",
       "      <td>153.4000</td>\n",
       "    </tr>\n",
       "    <tr>\n",
       "      <th>4</th>\n",
       "      <td>CUS-1271030853</td>\n",
       "      <td>76.1875</td>\n",
       "    </tr>\n",
       "  </tbody>\n",
       "</table>\n",
       "</div>"
      ],
      "text/plain": [
       "      customer_id  interbank\n",
       "0  CUS-1117979751  1001.0000\n",
       "1  CUS-1140341822    90.0000\n",
       "2  CUS-1147642491   125.0000\n",
       "3  CUS-1196156254   153.4000\n",
       "4  CUS-1271030853    76.1875"
      ]
     },
     "execution_count": 21,
     "metadata": {},
     "output_type": "execute_result"
    }
   ],
   "source": [
    "interbank.head()"
   ]
  },
  {
   "cell_type": "code",
   "execution_count": 22,
   "id": "0de5a3d1",
   "metadata": {},
   "outputs": [
    {
     "data": {
      "text/plain": [
       "68"
      ]
     },
     "execution_count": 22,
     "metadata": {},
     "output_type": "execute_result"
    }
   ],
   "source": [
    "len(interbank)"
   ]
  },
  {
   "cell_type": "markdown",
   "id": "9386df72",
   "metadata": {},
   "source": [
    "### Mean phone transaction made by the customer"
   ]
  },
  {
   "cell_type": "code",
   "execution_count": 23,
   "id": "80506104",
   "metadata": {},
   "outputs": [],
   "source": [
    "#Banking via phone/online pay\n",
    "\n",
    "phonebank=data[data[\"txn_description\"]=='PHONE BANK'].groupby(\"customer_id\").mean().reset_index()\n",
    "phonebank=phonebank[[\"customer_id\",\"amount\"]]\n",
    "phonebank=phonebank.rename(columns = {'amount':'phonebank'})"
   ]
  },
  {
   "cell_type": "code",
   "execution_count": 24,
   "id": "14805d4a",
   "metadata": {},
   "outputs": [
    {
     "data": {
      "text/html": [
       "<div>\n",
       "<style scoped>\n",
       "    .dataframe tbody tr th:only-of-type {\n",
       "        vertical-align: middle;\n",
       "    }\n",
       "\n",
       "    .dataframe tbody tr th {\n",
       "        vertical-align: top;\n",
       "    }\n",
       "\n",
       "    .dataframe thead th {\n",
       "        text-align: right;\n",
       "    }\n",
       "</style>\n",
       "<table border=\"1\" class=\"dataframe\">\n",
       "  <thead>\n",
       "    <tr style=\"text-align: right;\">\n",
       "      <th></th>\n",
       "      <th>customer_id</th>\n",
       "      <th>phonebank</th>\n",
       "    </tr>\n",
       "  </thead>\n",
       "  <tbody>\n",
       "    <tr>\n",
       "      <th>0</th>\n",
       "      <td>CUS-1005756958</td>\n",
       "      <td>182.0</td>\n",
       "    </tr>\n",
       "    <tr>\n",
       "      <th>1</th>\n",
       "      <td>CUS-1646183815</td>\n",
       "      <td>150.0</td>\n",
       "    </tr>\n",
       "    <tr>\n",
       "      <th>2</th>\n",
       "      <td>CUS-1896554896</td>\n",
       "      <td>1916.0</td>\n",
       "    </tr>\n",
       "    <tr>\n",
       "      <th>3</th>\n",
       "      <td>CUS-2155701614</td>\n",
       "      <td>82.0</td>\n",
       "    </tr>\n",
       "    <tr>\n",
       "      <th>4</th>\n",
       "      <td>CUS-2348881191</td>\n",
       "      <td>1629.0</td>\n",
       "    </tr>\n",
       "  </tbody>\n",
       "</table>\n",
       "</div>"
      ],
      "text/plain": [
       "      customer_id  phonebank\n",
       "0  CUS-1005756958      182.0\n",
       "1  CUS-1646183815      150.0\n",
       "2  CUS-1896554896     1916.0\n",
       "3  CUS-2155701614       82.0\n",
       "4  CUS-2348881191     1629.0"
      ]
     },
     "execution_count": 24,
     "metadata": {},
     "output_type": "execute_result"
    }
   ],
   "source": [
    "phonebank.head()"
   ]
  },
  {
   "cell_type": "code",
   "execution_count": 25,
   "id": "9a293a44",
   "metadata": {},
   "outputs": [
    {
     "data": {
      "text/plain": [
       "16"
      ]
     },
     "execution_count": 25,
     "metadata": {},
     "output_type": "execute_result"
    }
   ],
   "source": [
    "len(phonebank)"
   ]
  },
  {
   "cell_type": "markdown",
   "id": "302ec2f3",
   "metadata": {},
   "source": [
    "### Merging relevant dataframes"
   ]
  },
  {
   "cell_type": "code",
   "execution_count": 26,
   "id": "e290404c",
   "metadata": {},
   "outputs": [
    {
     "data": {
      "text/html": [
       "<div>\n",
       "<style scoped>\n",
       "    .dataframe tbody tr th:only-of-type {\n",
       "        vertical-align: middle;\n",
       "    }\n",
       "\n",
       "    .dataframe tbody tr th {\n",
       "        vertical-align: top;\n",
       "    }\n",
       "\n",
       "    .dataframe thead th {\n",
       "        text-align: right;\n",
       "    }\n",
       "</style>\n",
       "<table border=\"1\" class=\"dataframe\">\n",
       "  <thead>\n",
       "    <tr style=\"text-align: right;\">\n",
       "      <th></th>\n",
       "      <th>customer_id</th>\n",
       "      <th>age</th>\n",
       "      <th>balance</th>\n",
       "    </tr>\n",
       "  </thead>\n",
       "  <tbody>\n",
       "    <tr>\n",
       "      <th>0</th>\n",
       "      <td>CUS-1005756958</td>\n",
       "      <td>53</td>\n",
       "      <td>2275.852055</td>\n",
       "    </tr>\n",
       "    <tr>\n",
       "      <th>1</th>\n",
       "      <td>CUS-1117979751</td>\n",
       "      <td>21</td>\n",
       "      <td>9829.929000</td>\n",
       "    </tr>\n",
       "    <tr>\n",
       "      <th>2</th>\n",
       "      <td>CUS-1140341822</td>\n",
       "      <td>28</td>\n",
       "      <td>5699.212250</td>\n",
       "    </tr>\n",
       "    <tr>\n",
       "      <th>3</th>\n",
       "      <td>CUS-1147642491</td>\n",
       "      <td>34</td>\n",
       "      <td>9032.841186</td>\n",
       "    </tr>\n",
       "    <tr>\n",
       "      <th>4</th>\n",
       "      <td>CUS-1196156254</td>\n",
       "      <td>34</td>\n",
       "      <td>22272.433755</td>\n",
       "    </tr>\n",
       "  </tbody>\n",
       "</table>\n",
       "</div>"
      ],
      "text/plain": [
       "      customer_id  age       balance\n",
       "0  CUS-1005756958   53   2275.852055\n",
       "1  CUS-1117979751   21   9829.929000\n",
       "2  CUS-1140341822   28   5699.212250\n",
       "3  CUS-1147642491   34   9032.841186\n",
       "4  CUS-1196156254   34  22272.433755"
      ]
     },
     "execution_count": 26,
     "metadata": {},
     "output_type": "execute_result"
    }
   ],
   "source": [
    "customer=data.groupby(\"customer_id\").mean().reset_index()\n",
    "customer=customer[[\"customer_id\",\"age\",\"balance\"]]\n",
    "customer.head()"
   ]
  },
  {
   "cell_type": "code",
   "execution_count": 27,
   "id": "1533ce9f",
   "metadata": {},
   "outputs": [],
   "source": [
    "df=pd.merge(customer, payment, on=\"customer_id\")\n",
    "df=pd.merge(df, pos, on=\"customer_id\")\n",
    "df=pd.merge(df, salary, on=\"customer_id\")"
   ]
  },
  {
   "cell_type": "code",
   "execution_count": 28,
   "id": "a6e25945",
   "metadata": {},
   "outputs": [
    {
     "data": {
      "text/html": [
       "<div>\n",
       "<style scoped>\n",
       "    .dataframe tbody tr th:only-of-type {\n",
       "        vertical-align: middle;\n",
       "    }\n",
       "\n",
       "    .dataframe tbody tr th {\n",
       "        vertical-align: top;\n",
       "    }\n",
       "\n",
       "    .dataframe thead th {\n",
       "        text-align: right;\n",
       "    }\n",
       "</style>\n",
       "<table border=\"1\" class=\"dataframe\">\n",
       "  <thead>\n",
       "    <tr style=\"text-align: right;\">\n",
       "      <th></th>\n",
       "      <th>customer_id</th>\n",
       "      <th>age</th>\n",
       "      <th>balance</th>\n",
       "      <th>payment</th>\n",
       "      <th>pos</th>\n",
       "      <th>salary</th>\n",
       "    </tr>\n",
       "  </thead>\n",
       "  <tbody>\n",
       "    <tr>\n",
       "      <th>0</th>\n",
       "      <td>CUS-1005756958</td>\n",
       "      <td>53</td>\n",
       "      <td>2275.852055</td>\n",
       "      <td>144.000000</td>\n",
       "      <td>28.769615</td>\n",
       "      <td>970.47</td>\n",
       "    </tr>\n",
       "    <tr>\n",
       "      <th>1</th>\n",
       "      <td>CUS-1117979751</td>\n",
       "      <td>21</td>\n",
       "      <td>9829.929000</td>\n",
       "      <td>98.925000</td>\n",
       "      <td>23.321923</td>\n",
       "      <td>3578.65</td>\n",
       "    </tr>\n",
       "    <tr>\n",
       "      <th>2</th>\n",
       "      <td>CUS-1140341822</td>\n",
       "      <td>28</td>\n",
       "      <td>5699.212250</td>\n",
       "      <td>142.000000</td>\n",
       "      <td>34.781282</td>\n",
       "      <td>1916.51</td>\n",
       "    </tr>\n",
       "    <tr>\n",
       "      <th>3</th>\n",
       "      <td>CUS-1147642491</td>\n",
       "      <td>34</td>\n",
       "      <td>9032.841186</td>\n",
       "      <td>96.185185</td>\n",
       "      <td>54.271316</td>\n",
       "      <td>1711.39</td>\n",
       "    </tr>\n",
       "    <tr>\n",
       "      <th>4</th>\n",
       "      <td>CUS-1196156254</td>\n",
       "      <td>34</td>\n",
       "      <td>22272.433755</td>\n",
       "      <td>43.100000</td>\n",
       "      <td>31.157432</td>\n",
       "      <td>3903.73</td>\n",
       "    </tr>\n",
       "  </tbody>\n",
       "</table>\n",
       "</div>"
      ],
      "text/plain": [
       "      customer_id  age       balance     payment        pos   salary\n",
       "0  CUS-1005756958   53   2275.852055  144.000000  28.769615   970.47\n",
       "1  CUS-1117979751   21   9829.929000   98.925000  23.321923  3578.65\n",
       "2  CUS-1140341822   28   5699.212250  142.000000  34.781282  1916.51\n",
       "3  CUS-1147642491   34   9032.841186   96.185185  54.271316  1711.39\n",
       "4  CUS-1196156254   34  22272.433755   43.100000  31.157432  3903.73"
      ]
     },
     "execution_count": 28,
     "metadata": {},
     "output_type": "execute_result"
    }
   ],
   "source": [
    "df.head()"
   ]
  },
  {
   "cell_type": "markdown",
   "id": "23ea4068",
   "metadata": {},
   "source": [
    "## Feature selection for new features\n",
    "### Payment v/s Salary"
   ]
  },
  {
   "cell_type": "code",
   "execution_count": 29,
   "id": "3619b417",
   "metadata": {},
   "outputs": [
    {
     "name": "stderr",
     "output_type": "stream",
     "text": [
      "C:\\Users\\Kushal Gupta\\anaconda3\\lib\\site-packages\\seaborn\\_decorators.py:36: FutureWarning: Pass the following variables as keyword args: x, y. From version 0.12, the only valid positional argument will be `data`, and passing other arguments without an explicit keyword will result in an error or misinterpretation.\n",
      "  warnings.warn(\n"
     ]
    },
    {
     "data": {
      "text/plain": [
       "<AxesSubplot:xlabel='payment', ylabel='salary'>"
      ]
     },
     "execution_count": 29,
     "metadata": {},
     "output_type": "execute_result"
    },
    {
     "data": {
      "image/png": "[encoded data removed]",
      "text/plain": [
       "<Figure size 864x576 with 1 Axes>"
      ]
     },
     "metadata": {
      "needs_background": "light"
     },
     "output_type": "display_data"
    }
   ],
   "source": [
    "plt.figure(figsize=(12, 8))\n",
    "sns.regplot(\"payment\", \"salary\", fit_reg=True, data=df)"
   ]
  },
  {
   "cell_type": "markdown",
   "id": "7afa5a81",
   "metadata": {},
   "source": [
    "### Salary vs Point Of Sale"
   ]
  },
  {
   "cell_type": "code",
   "execution_count": 30,
   "id": "86cf5b2d",
   "metadata": {},
   "outputs": [
    {
     "name": "stderr",
     "output_type": "stream",
     "text": [
      "C:\\Users\\Kushal Gupta\\anaconda3\\lib\\site-packages\\seaborn\\_decorators.py:36: FutureWarning: Pass the following variables as keyword args: x, y. From version 0.12, the only valid positional argument will be `data`, and passing other arguments without an explicit keyword will result in an error or misinterpretation.\n",
      "  warnings.warn(\n"
     ]
    },
    {
     "data": {
      "text/plain": [
       "<AxesSubplot:xlabel='pos', ylabel='salary'>"
      ]
     },
     "execution_count": 30,
     "metadata": {},
     "output_type": "execute_result"
    },
    {
     "data": {
      "image/png": "[encoded data removed]",
      "text/plain": [
       "<Figure size 864x576 with 1 Axes>"
      ]
     },
     "metadata": {
      "needs_background": "light"
     },
     "output_type": "display_data"
    }
   ],
   "source": [
    "plt.figure(figsize=(12, 8))\n",
    "sns.regplot(\"pos\", \"salary\", fit_reg=True, data=df)"
   ]
  },
  {
   "cell_type": "markdown",
   "id": "532993bd",
   "metadata": {},
   "source": [
    "## Model building and predictive analytics\n",
    "## Supervised models\n",
    "## Linear Regression Model"
   ]
  },
  {
   "cell_type": "code",
   "execution_count": 31,
   "id": "d2959390",
   "metadata": {},
   "outputs": [],
   "source": [
    "X=df[[\"age\",\"balance\",\"payment\",\"pos\"]].values\n",
    "y=df[\"salary\"].values"
   ]
  },
  {
   "cell_type": "code",
   "execution_count": 32,
   "id": "9006da05",
   "metadata": {},
   "outputs": [],
   "source": [
    "X_train, X_test, y_train, y_test = train_test_split( X, y, test_size=0.2, random_state=42)"
   ]
  },
  {
   "cell_type": "code",
   "execution_count": 40,
   "id": "9371d0d8",
   "metadata": {},
   "outputs": [],
   "source": [
    "lr_model1 = LinearRegression()"
   ]
  },
  {
   "cell_type": "code",
   "execution_count": 41,
   "id": "88a57cd2",
   "metadata": {},
   "outputs": [
    {
     "data": {
      "text/plain": [
       "0.11930439490077771"
      ]
     },
     "execution_count": 41,
     "metadata": {},
     "output_type": "execute_result"
    }
   ],
   "source": [
    "lr_model1.fit(X_train, y_train)\n",
    "lr_model1.score(X, y)"
   ]
  },
  {
   "cell_type": "code",
   "execution_count": 42,
   "id": "794ff404",
   "metadata": {},
   "outputs": [],
   "source": [
    " y_pred=lr.predict(X_test)"
   ]
  },
  {
   "cell_type": "code",
   "execution_count": 43,
   "id": "0c5a5a07",
   "metadata": {},
   "outputs": [
    {
     "name": "stdout",
     "output_type": "stream",
     "text": [
      "Coefficient of determination:  0.07666219584715872\n"
     ]
    }
   ],
   "source": [
    "print('Coefficient of determination: ', r2_score(y_test, y_pred))"
   ]
  },
  {
   "cell_type": "code",
   "execution_count": 44,
   "id": "3c593a5c",
   "metadata": {},
   "outputs": [
    {
     "name": "stdout",
     "output_type": "stream",
     "text": [
      "The model predicts salary will be=\n",
      "1467.1295983855503\n"
     ]
    }
   ],
   "source": [
    "# Sample prediction values\n",
    "\n",
    "print(\"The model predicts salary will be=\")\n",
    "print(lr_model1.predict([[60,5000,100,50]])[0])"
   ]
  },
  {
   "cell_type": "markdown",
   "id": "e9db2660",
   "metadata": {},
   "source": [
    "## Decision Tree Regressor"
   ]
  },
  {
   "cell_type": "code",
   "execution_count": 118,
   "id": "ffb4a593",
   "metadata": {},
   "outputs": [],
   "source": [
    "dt_model2 = DecisionTreeRegressor()\n"
   ]
  },
  {
   "cell_type": "code",
   "execution_count": 119,
   "id": "caf5daf3",
   "metadata": {},
   "outputs": [
    {
     "data": {
      "text/plain": [
       "1.0"
      ]
     },
     "execution_count": 119,
     "metadata": {},
     "output_type": "execute_result"
    }
   ],
   "source": [
    "dt_model2.fit(X_train, y_train)\n",
    "dt_model2.score(X_train, y_train)"
   ]
  },
  {
   "cell_type": "code",
   "execution_count": 120,
   "id": "717b39fb",
   "metadata": {},
   "outputs": [
    {
     "data": {
      "text/plain": [
       "array([1002.13, 2639.76, 3517.61, 2218.73, 3071.14, 3649.51, 2840.15,\n",
       "       1002.13, 2280.36, 1272.47,  576.  , 2500.  , 3026.95, 2639.76,\n",
       "       3676.94, 2718.51, 1099.7 , 3676.94, 2218.73, 3517.61])"
      ]
     },
     "execution_count": 120,
     "metadata": {},
     "output_type": "execute_result"
    }
   ],
   "source": [
    "dt_model2.predict(X_test)"
   ]
  },
  {
   "cell_type": "code",
   "execution_count": 121,
   "id": "c4057515",
   "metadata": {},
   "outputs": [
    {
     "data": {
      "text/plain": [
       "0.20541409504758557"
      ]
     },
     "execution_count": 121,
     "metadata": {},
     "output_type": "execute_result"
    }
   ],
   "source": [
    "dt_model2.score(X_test, y_test)"
   ]
  },
  {
   "cell_type": "code",
   "execution_count": 97,
   "id": "2f1716cb",
   "metadata": {},
   "outputs": [
    {
     "name": "stdout",
     "output_type": "stream",
     "text": [
      "The model predicts salary will be=\n",
      "1002.1299999999998\n"
     ]
    }
   ],
   "source": [
    "# Sample prediction values\n",
    "\n",
    "print(\"The model predicts salary will be=\")\n",
    "print(dt_model2.predict([[60,5000,100,50]])[0])"
   ]
  },
  {
   "cell_type": "markdown",
   "id": "0a88932b",
   "metadata": {},
   "source": [
    "## Unsupervised Models\n",
    "## Segmentation using K-Means Clustering"
   ]
  },
  {
   "cell_type": "code",
   "execution_count": 73,
   "id": "1adcd39b",
   "metadata": {},
   "outputs": [
    {
     "data": {
      "text/html": [
       "<div>\n",
       "<style scoped>\n",
       "    .dataframe tbody tr th:only-of-type {\n",
       "        vertical-align: middle;\n",
       "    }\n",
       "\n",
       "    .dataframe tbody tr th {\n",
       "        vertical-align: top;\n",
       "    }\n",
       "\n",
       "    .dataframe thead th {\n",
       "        text-align: right;\n",
       "    }\n",
       "</style>\n",
       "<table border=\"1\" class=\"dataframe\">\n",
       "  <thead>\n",
       "    <tr style=\"text-align: right;\">\n",
       "      <th></th>\n",
       "      <th>customer_id</th>\n",
       "      <th>age</th>\n",
       "      <th>balance</th>\n",
       "      <th>payment</th>\n",
       "      <th>pos</th>\n",
       "      <th>salary</th>\n",
       "    </tr>\n",
       "  </thead>\n",
       "  <tbody>\n",
       "    <tr>\n",
       "      <th>0</th>\n",
       "      <td>CUS-1005756958</td>\n",
       "      <td>53</td>\n",
       "      <td>2275.852055</td>\n",
       "      <td>144.000000</td>\n",
       "      <td>28.769615</td>\n",
       "      <td>970.47</td>\n",
       "    </tr>\n",
       "    <tr>\n",
       "      <th>1</th>\n",
       "      <td>CUS-1117979751</td>\n",
       "      <td>21</td>\n",
       "      <td>9829.929000</td>\n",
       "      <td>98.925000</td>\n",
       "      <td>23.321923</td>\n",
       "      <td>3578.65</td>\n",
       "    </tr>\n",
       "    <tr>\n",
       "      <th>2</th>\n",
       "      <td>CUS-1140341822</td>\n",
       "      <td>28</td>\n",
       "      <td>5699.212250</td>\n",
       "      <td>142.000000</td>\n",
       "      <td>34.781282</td>\n",
       "      <td>1916.51</td>\n",
       "    </tr>\n",
       "    <tr>\n",
       "      <th>3</th>\n",
       "      <td>CUS-1147642491</td>\n",
       "      <td>34</td>\n",
       "      <td>9032.841186</td>\n",
       "      <td>96.185185</td>\n",
       "      <td>54.271316</td>\n",
       "      <td>1711.39</td>\n",
       "    </tr>\n",
       "    <tr>\n",
       "      <th>4</th>\n",
       "      <td>CUS-1196156254</td>\n",
       "      <td>34</td>\n",
       "      <td>22272.433755</td>\n",
       "      <td>43.100000</td>\n",
       "      <td>31.157432</td>\n",
       "      <td>3903.73</td>\n",
       "    </tr>\n",
       "    <tr>\n",
       "      <th>...</th>\n",
       "      <td>...</td>\n",
       "      <td>...</td>\n",
       "      <td>...</td>\n",
       "      <td>...</td>\n",
       "      <td>...</td>\n",
       "      <td>...</td>\n",
       "    </tr>\n",
       "    <tr>\n",
       "      <th>95</th>\n",
       "      <td>CUS-72755508</td>\n",
       "      <td>35</td>\n",
       "      <td>4497.557069</td>\n",
       "      <td>1180.000000</td>\n",
       "      <td>25.022143</td>\n",
       "      <td>725.32</td>\n",
       "    </tr>\n",
       "    <tr>\n",
       "      <th>96</th>\n",
       "      <td>CUS-809013380</td>\n",
       "      <td>21</td>\n",
       "      <td>3756.902903</td>\n",
       "      <td>70.136364</td>\n",
       "      <td>22.255098</td>\n",
       "      <td>1037.07</td>\n",
       "    </tr>\n",
       "    <tr>\n",
       "      <th>97</th>\n",
       "      <td>CUS-860700529</td>\n",
       "      <td>30</td>\n",
       "      <td>3462.276009</td>\n",
       "      <td>41.933333</td>\n",
       "      <td>28.164845</td>\n",
       "      <td>1808.62</td>\n",
       "    </tr>\n",
       "    <tr>\n",
       "      <th>98</th>\n",
       "      <td>CUS-880898248</td>\n",
       "      <td>26</td>\n",
       "      <td>8528.830385</td>\n",
       "      <td>77.500000</td>\n",
       "      <td>20.101429</td>\n",
       "      <td>1433.98</td>\n",
       "    </tr>\n",
       "    <tr>\n",
       "      <th>99</th>\n",
       "      <td>CUS-883482547</td>\n",
       "      <td>19</td>\n",
       "      <td>9877.452697</td>\n",
       "      <td>91.446809</td>\n",
       "      <td>30.635098</td>\n",
       "      <td>3977.46</td>\n",
       "    </tr>\n",
       "  </tbody>\n",
       "</table>\n",
       "<p>100 rows × 6 columns</p>\n",
       "</div>"
      ],
      "text/plain": [
       "       customer_id  age       balance      payment        pos   salary\n",
       "0   CUS-1005756958   53   2275.852055   144.000000  28.769615   970.47\n",
       "1   CUS-1117979751   21   9829.929000    98.925000  23.321923  3578.65\n",
       "2   CUS-1140341822   28   5699.212250   142.000000  34.781282  1916.51\n",
       "3   CUS-1147642491   34   9032.841186    96.185185  54.271316  1711.39\n",
       "4   CUS-1196156254   34  22272.433755    43.100000  31.157432  3903.73\n",
       "..             ...  ...           ...          ...        ...      ...\n",
       "95    CUS-72755508   35   4497.557069  1180.000000  25.022143   725.32\n",
       "96   CUS-809013380   21   3756.902903    70.136364  22.255098  1037.07\n",
       "97   CUS-860700529   30   3462.276009    41.933333  28.164845  1808.62\n",
       "98   CUS-880898248   26   8528.830385    77.500000  20.101429  1433.98\n",
       "99   CUS-883482547   19   9877.452697    91.446809  30.635098  3977.46\n",
       "\n",
       "[100 rows x 6 columns]"
      ]
     },
     "execution_count": 73,
     "metadata": {},
     "output_type": "execute_result"
    }
   ],
   "source": [
    "df"
   ]
  },
  {
   "cell_type": "code",
   "execution_count": 74,
   "id": "a4cd0351",
   "metadata": {},
   "outputs": [
    {
     "data": {
      "text/plain": [
       "(100, 5)"
      ]
     },
     "execution_count": 74,
     "metadata": {},
     "output_type": "execute_result"
    }
   ],
   "source": [
    "X=df[[\"age\",\"balance\",\"payment\",\"pos\",\"salary\"]]\n",
    "X.shape"
   ]
  },
  {
   "cell_type": "code",
   "execution_count": 75,
   "id": "4ff37712",
   "metadata": {},
   "outputs": [
    {
     "name": "stderr",
     "output_type": "stream",
     "text": [
      "C:\\Users\\Kushal Gupta\\anaconda3\\lib\\site-packages\\sklearn\\cluster\\_kmeans.py:881: UserWarning: KMeans is known to have a memory leak on Windows with MKL, when there are less chunks than available threads. You can avoid it by setting the environment variable OMP_NUM_THREADS=1.\n",
      "  warnings.warn(\n"
     ]
    }
   ],
   "source": [
    "wcss=[]\n",
    "\n",
    "for i in range(1,11):\n",
    "    km=KMeans(n_clusters=i)\n",
    "    km.fit(X)\n",
    "    wcss.append(km.inertia_)"
   ]
  },
  {
   "cell_type": "code",
   "execution_count": 76,
   "id": "38b40a8b",
   "metadata": {},
   "outputs": [
    {
     "data": {
      "image/png": "[encoded data removed]",
      "text/plain": [
       "<Figure size 864x432 with 1 Axes>"
      ]
     },
     "metadata": {
      "needs_background": "light"
     },
     "output_type": "display_data"
    }
   ],
   "source": [
    "plt.figure(figsize=(12,6))\n",
    "plt.plot(range(1,11),wcss)\n",
    "plt.grid()\n",
    "plt.plot(range(1,11),wcss, linewidth=2, color=\"red\", marker =\"8\")\n",
    "plt.xlabel(\"K Value\")\n",
    "plt.xticks(np.arange(1,11,1))\n",
    "plt.ylabel(\"WCSS\")\n",
    "plt.show()"
   ]
  },
  {
   "cell_type": "code",
   "execution_count": 77,
   "id": "97bae641",
   "metadata": {},
   "outputs": [],
   "source": [
    "km=KMeans(n_clusters=3)\n",
    "clusters = km.fit_predict(X)\n",
    "df[\"label\"] = clusters"
   ]
  },
  {
   "cell_type": "code",
   "execution_count": 78,
   "id": "3ab57e6c",
   "metadata": {},
   "outputs": [
    {
     "data": {
      "text/html": [
       "<div>\n",
       "<style scoped>\n",
       "    .dataframe tbody tr th:only-of-type {\n",
       "        vertical-align: middle;\n",
       "    }\n",
       "\n",
       "    .dataframe tbody tr th {\n",
       "        vertical-align: top;\n",
       "    }\n",
       "\n",
       "    .dataframe thead th {\n",
       "        text-align: right;\n",
       "    }\n",
       "</style>\n",
       "<table border=\"1\" class=\"dataframe\">\n",
       "  <thead>\n",
       "    <tr style=\"text-align: right;\">\n",
       "      <th></th>\n",
       "      <th>customer_id</th>\n",
       "      <th>age</th>\n",
       "      <th>balance</th>\n",
       "      <th>payment</th>\n",
       "      <th>pos</th>\n",
       "      <th>salary</th>\n",
       "      <th>label</th>\n",
       "    </tr>\n",
       "  </thead>\n",
       "  <tbody>\n",
       "    <tr>\n",
       "      <th>0</th>\n",
       "      <td>CUS-1005756958</td>\n",
       "      <td>53</td>\n",
       "      <td>2275.852055</td>\n",
       "      <td>144.000000</td>\n",
       "      <td>28.769615</td>\n",
       "      <td>970.47</td>\n",
       "      <td>0</td>\n",
       "    </tr>\n",
       "    <tr>\n",
       "      <th>1</th>\n",
       "      <td>CUS-1117979751</td>\n",
       "      <td>21</td>\n",
       "      <td>9829.929000</td>\n",
       "      <td>98.925000</td>\n",
       "      <td>23.321923</td>\n",
       "      <td>3578.65</td>\n",
       "      <td>0</td>\n",
       "    </tr>\n",
       "    <tr>\n",
       "      <th>2</th>\n",
       "      <td>CUS-1140341822</td>\n",
       "      <td>28</td>\n",
       "      <td>5699.212250</td>\n",
       "      <td>142.000000</td>\n",
       "      <td>34.781282</td>\n",
       "      <td>1916.51</td>\n",
       "      <td>0</td>\n",
       "    </tr>\n",
       "    <tr>\n",
       "      <th>3</th>\n",
       "      <td>CUS-1147642491</td>\n",
       "      <td>34</td>\n",
       "      <td>9032.841186</td>\n",
       "      <td>96.185185</td>\n",
       "      <td>54.271316</td>\n",
       "      <td>1711.39</td>\n",
       "      <td>0</td>\n",
       "    </tr>\n",
       "    <tr>\n",
       "      <th>4</th>\n",
       "      <td>CUS-1196156254</td>\n",
       "      <td>34</td>\n",
       "      <td>22272.433755</td>\n",
       "      <td>43.100000</td>\n",
       "      <td>31.157432</td>\n",
       "      <td>3903.73</td>\n",
       "      <td>0</td>\n",
       "    </tr>\n",
       "    <tr>\n",
       "      <th>...</th>\n",
       "      <td>...</td>\n",
       "      <td>...</td>\n",
       "      <td>...</td>\n",
       "      <td>...</td>\n",
       "      <td>...</td>\n",
       "      <td>...</td>\n",
       "      <td>...</td>\n",
       "    </tr>\n",
       "    <tr>\n",
       "      <th>95</th>\n",
       "      <td>CUS-72755508</td>\n",
       "      <td>35</td>\n",
       "      <td>4497.557069</td>\n",
       "      <td>1180.000000</td>\n",
       "      <td>25.022143</td>\n",
       "      <td>725.32</td>\n",
       "      <td>0</td>\n",
       "    </tr>\n",
       "    <tr>\n",
       "      <th>96</th>\n",
       "      <td>CUS-809013380</td>\n",
       "      <td>21</td>\n",
       "      <td>3756.902903</td>\n",
       "      <td>70.136364</td>\n",
       "      <td>22.255098</td>\n",
       "      <td>1037.07</td>\n",
       "      <td>0</td>\n",
       "    </tr>\n",
       "    <tr>\n",
       "      <th>97</th>\n",
       "      <td>CUS-860700529</td>\n",
       "      <td>30</td>\n",
       "      <td>3462.276009</td>\n",
       "      <td>41.933333</td>\n",
       "      <td>28.164845</td>\n",
       "      <td>1808.62</td>\n",
       "      <td>0</td>\n",
       "    </tr>\n",
       "    <tr>\n",
       "      <th>98</th>\n",
       "      <td>CUS-880898248</td>\n",
       "      <td>26</td>\n",
       "      <td>8528.830385</td>\n",
       "      <td>77.500000</td>\n",
       "      <td>20.101429</td>\n",
       "      <td>1433.98</td>\n",
       "      <td>0</td>\n",
       "    </tr>\n",
       "    <tr>\n",
       "      <th>99</th>\n",
       "      <td>CUS-883482547</td>\n",
       "      <td>19</td>\n",
       "      <td>9877.452697</td>\n",
       "      <td>91.446809</td>\n",
       "      <td>30.635098</td>\n",
       "      <td>3977.46</td>\n",
       "      <td>0</td>\n",
       "    </tr>\n",
       "  </tbody>\n",
       "</table>\n",
       "<p>100 rows × 7 columns</p>\n",
       "</div>"
      ],
      "text/plain": [
       "       customer_id  age       balance      payment        pos   salary  label\n",
       "0   CUS-1005756958   53   2275.852055   144.000000  28.769615   970.47      0\n",
       "1   CUS-1117979751   21   9829.929000    98.925000  23.321923  3578.65      0\n",
       "2   CUS-1140341822   28   5699.212250   142.000000  34.781282  1916.51      0\n",
       "3   CUS-1147642491   34   9032.841186    96.185185  54.271316  1711.39      0\n",
       "4   CUS-1196156254   34  22272.433755    43.100000  31.157432  3903.73      0\n",
       "..             ...  ...           ...          ...        ...      ...    ...\n",
       "95    CUS-72755508   35   4497.557069  1180.000000  25.022143   725.32      0\n",
       "96   CUS-809013380   21   3756.902903    70.136364  22.255098  1037.07      0\n",
       "97   CUS-860700529   30   3462.276009    41.933333  28.164845  1808.62      0\n",
       "98   CUS-880898248   26   8528.830385    77.500000  20.101429  1433.98      0\n",
       "99   CUS-883482547   19   9877.452697    91.446809  30.635098  3977.46      0\n",
       "\n",
       "[100 rows x 7 columns]"
      ]
     },
     "execution_count": 78,
     "metadata": {},
     "output_type": "execute_result"
    }
   ],
   "source": [
    "df"
   ]
  },
  {
   "cell_type": "code",
   "execution_count": 79,
   "id": "e1a55363",
   "metadata": {},
   "outputs": [
    {
     "name": "stdout",
     "output_type": "stream",
     "text": [
      "Fist Group: \n",
      " \n",
      "       customer_id  age       balance      payment        pos   salary  label\n",
      "0   CUS-1005756958   53   2275.852055   144.000000  28.769615   970.47      0\n",
      "1   CUS-1117979751   21   9829.929000    98.925000  23.321923  3578.65      0\n",
      "2   CUS-1140341822   28   5699.212250   142.000000  34.781282  1916.51      0\n",
      "3   CUS-1147642491   34   9032.841186    96.185185  54.271316  1711.39      0\n",
      "4   CUS-1196156254   34  22272.433755    43.100000  31.157432  3903.73      0\n",
      "..             ...  ...           ...          ...        ...      ...    ...\n",
      "95    CUS-72755508   35   4497.557069  1180.000000  25.022143   725.32      0\n",
      "96   CUS-809013380   21   3756.902903    70.136364  22.255098  1037.07      0\n",
      "97   CUS-860700529   30   3462.276009    41.933333  28.164845  1808.62      0\n",
      "98   CUS-880898248   26   8528.830385    77.500000  20.101429  1433.98      0\n",
      "99   CUS-883482547   19   9877.452697    91.446809  30.635098  3977.46      0\n",
      "\n",
      "[87 rows x 7 columns]\n"
     ]
    }
   ],
   "source": [
    "print(\"Fist Group: \")\n",
    "print(\" \")\n",
    "print(df[df[\"label\"]==0])"
   ]
  },
  {
   "cell_type": "code",
   "execution_count": 80,
   "id": "0e4bfe2f",
   "metadata": {},
   "outputs": [
    {
     "name": "stdout",
     "output_type": "stream",
     "text": [
      "Second Group: \n",
      " \n",
      "       customer_id  age        balance    payment         pos   salary  label\n",
      "43  CUS-2370108457   46  263753.766119  61.750000  258.643636  2179.96      1\n",
      "91   CUS-527400765   40  198565.143775  72.216216   35.570500  4216.04      1\n"
     ]
    }
   ],
   "source": [
    "print(\"Second Group: \")\n",
    "print(\" \")\n",
    "print(df[df[\"label\"]==1])"
   ]
  },
  {
   "cell_type": "code",
   "execution_count": 81,
   "id": "0b73c0b2",
   "metadata": {},
   "outputs": [
    {
     "name": "stdout",
     "output_type": "stream",
     "text": [
      "Third Group: \n",
      " \n",
      "       customer_id  age        balance     payment         pos   salary  label\n",
      "17  CUS-1609060617   19   56685.795802   75.454545  134.343000  2854.74      2\n",
      "21  CUS-1646183815   78   54240.641471   58.437500   23.736667   782.42      2\n",
      "27  CUS-1816693151   40   65420.404231   73.567568   52.825455  8835.98      2\n",
      "33  CUS-2059096722   21   35816.951949   58.914286   27.022973  1560.20      2\n",
      "53  CUS-2663907001   28   39427.873576   55.192771   28.165200  4054.77      2\n",
      "57  CUS-2819545904   42  111300.797619  109.800000   88.541818  3231.26      2\n",
      "60  CUS-3117610635   33   61491.350647   76.863636   36.737391  2718.51      2\n",
      "63  CUS-3151318058   42   37842.077755   75.684211   30.715000  1757.82      2\n",
      "67  CUS-3249305314   38   38687.672843  111.214286  107.296250  1880.95      2\n",
      "77  CUS-3462882033   22   46338.733837  124.500000   29.371304  3195.01      2\n",
      "87   CUS-495599312   38   57566.579032  144.500000  102.412500  2647.38      2\n"
     ]
    }
   ],
   "source": [
    "print(\"Third Group: \")\n",
    "print(\" \")\n",
    "print(df[df[\"label\"]==2])"
   ]
  },
  {
   "cell_type": "code",
   "execution_count": null,
   "id": "5e1d0e49",
   "metadata": {},
   "outputs": [],
   "source": []
  }
 ],
 "metadata": {
  "kernelspec": {
   "display_name": "Python 3",
   "language": "python",
   "name": "python3"
  },
  "language_info": {
   "codemirror_mode": {
    "name": "ipython",
    "version": 3
   },
   "file_extension": ".py",
   "mimetype": "text/x-python",
   "name": "python",
   "nbconvert_exporter": "python",
   "pygments_lexer": "ipython3",
   "version": "3.8.8"
  }
 },
 "nbformat": 4,
 "nbformat_minor": 5
}
